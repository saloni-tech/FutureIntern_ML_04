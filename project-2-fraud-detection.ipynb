{
 "cells": [
  {
   "cell_type": "code",
   "execution_count": 69,
   "metadata": {
    "_cell_guid": "b1076dfc-b9ad-4769-8c92-a6c4dae69d19",
    "_uuid": "8f2839f25d086af736a60e9eeb907d3b93b6e0e5",
    "execution": {
     "iopub.execute_input": "2024-12-14T20:07:54.193967Z",
     "iopub.status.busy": "2024-12-14T20:07:54.193583Z",
     "iopub.status.idle": "2024-12-14T20:07:54.200759Z",
     "shell.execute_reply": "2024-12-14T20:07:54.199356Z",
     "shell.execute_reply.started": "2024-12-14T20:07:54.193935Z"
    },
    "trusted": true
   },
   "outputs": [],
   "source": [
    "import pandas as pd\n",
    "import numpy as np\n",
    "import seaborn as sns\n",
    "import matplotlib.pyplot as plt\n",
    "from sklearn.model_selection import train_test_split\n",
    "import warnings\n",
    "from sklearn.metrics import classification_report, accuracy_score, precision_score, recall_score, f1_score, matthews_corrcoef, confusion_matrix"
   ]
  },
  {
   "cell_type": "code",
   "execution_count": 4,
   "metadata": {
    "execution": {
     "iopub.execute_input": "2024-12-14T19:53:51.882004Z",
     "iopub.status.busy": "2024-12-14T19:53:51.881482Z",
     "iopub.status.idle": "2024-12-14T19:54:09.152152Z",
     "shell.execute_reply": "2024-12-14T19:54:09.150794Z",
     "shell.execute_reply.started": "2024-12-14T19:53:51.881967Z"
    },
    "trusted": true
   },
   "outputs": [],
   "source": [
    "df =pd.read_excel('/kaggle/input/fraud-online/fraud_detection.csv.xlsx')"
   ]
  },
  {
   "cell_type": "code",
   "execution_count": 5,
   "metadata": {
    "execution": {
     "iopub.execute_input": "2024-12-14T19:54:32.887492Z",
     "iopub.status.busy": "2024-12-14T19:54:32.886957Z",
     "iopub.status.idle": "2024-12-14T19:54:32.950925Z",
     "shell.execute_reply": "2024-12-14T19:54:32.949760Z",
     "shell.execute_reply.started": "2024-12-14T19:54:32.887453Z"
    },
    "trusted": true
   },
   "outputs": [
    {
     "data": {
      "text/html": [
       "<div>\n",
       "<style scoped>\n",
       "    .dataframe tbody tr th:only-of-type {\n",
       "        vertical-align: middle;\n",
       "    }\n",
       "\n",
       "    .dataframe tbody tr th {\n",
       "        vertical-align: top;\n",
       "    }\n",
       "\n",
       "    .dataframe thead th {\n",
       "        text-align: right;\n",
       "    }\n",
       "</style>\n",
       "<table border=\"1\" class=\"dataframe\">\n",
       "  <thead>\n",
       "    <tr style=\"text-align: right;\">\n",
       "      <th></th>\n",
       "      <th>step</th>\n",
       "      <th>type</th>\n",
       "      <th>amount</th>\n",
       "      <th>nameOrig</th>\n",
       "      <th>oldbalanceOrg</th>\n",
       "      <th>newbalanceOrig</th>\n",
       "      <th>nameDest</th>\n",
       "      <th>oldbalanceDest</th>\n",
       "      <th>newbalanceDest</th>\n",
       "      <th>isFraud</th>\n",
       "      <th>isFlaggedFraud</th>\n",
       "    </tr>\n",
       "  </thead>\n",
       "  <tbody>\n",
       "    <tr>\n",
       "      <th>0</th>\n",
       "      <td>1</td>\n",
       "      <td>PAYMENT</td>\n",
       "      <td>9839.64</td>\n",
       "      <td>C1231006815</td>\n",
       "      <td>170136.00</td>\n",
       "      <td>160296.36</td>\n",
       "      <td>M1979787155</td>\n",
       "      <td>0.0</td>\n",
       "      <td>0.00</td>\n",
       "      <td>0</td>\n",
       "      <td>0</td>\n",
       "    </tr>\n",
       "    <tr>\n",
       "      <th>1</th>\n",
       "      <td>1</td>\n",
       "      <td>PAYMENT</td>\n",
       "      <td>1864.28</td>\n",
       "      <td>C1666544295</td>\n",
       "      <td>21249.00</td>\n",
       "      <td>19384.72</td>\n",
       "      <td>M2044282225</td>\n",
       "      <td>0.0</td>\n",
       "      <td>0.00</td>\n",
       "      <td>0</td>\n",
       "      <td>0</td>\n",
       "    </tr>\n",
       "    <tr>\n",
       "      <th>2</th>\n",
       "      <td>1</td>\n",
       "      <td>TRANSFER</td>\n",
       "      <td>181.00</td>\n",
       "      <td>C1305486145</td>\n",
       "      <td>181.00</td>\n",
       "      <td>0.00</td>\n",
       "      <td>C553264065</td>\n",
       "      <td>0.0</td>\n",
       "      <td>0.00</td>\n",
       "      <td>1</td>\n",
       "      <td>0</td>\n",
       "    </tr>\n",
       "    <tr>\n",
       "      <th>3</th>\n",
       "      <td>1</td>\n",
       "      <td>CASH_OUT</td>\n",
       "      <td>181.00</td>\n",
       "      <td>C840083671</td>\n",
       "      <td>181.00</td>\n",
       "      <td>0.00</td>\n",
       "      <td>C38997010</td>\n",
       "      <td>21182.0</td>\n",
       "      <td>0.00</td>\n",
       "      <td>1</td>\n",
       "      <td>0</td>\n",
       "    </tr>\n",
       "    <tr>\n",
       "      <th>4</th>\n",
       "      <td>1</td>\n",
       "      <td>PAYMENT</td>\n",
       "      <td>11668.14</td>\n",
       "      <td>C2048537720</td>\n",
       "      <td>41554.00</td>\n",
       "      <td>29885.86</td>\n",
       "      <td>M1230701703</td>\n",
       "      <td>0.0</td>\n",
       "      <td>0.00</td>\n",
       "      <td>0</td>\n",
       "      <td>0</td>\n",
       "    </tr>\n",
       "    <tr>\n",
       "      <th>5</th>\n",
       "      <td>1</td>\n",
       "      <td>PAYMENT</td>\n",
       "      <td>7817.71</td>\n",
       "      <td>C90045638</td>\n",
       "      <td>53860.00</td>\n",
       "      <td>46042.29</td>\n",
       "      <td>M573487274</td>\n",
       "      <td>0.0</td>\n",
       "      <td>0.00</td>\n",
       "      <td>0</td>\n",
       "      <td>0</td>\n",
       "    </tr>\n",
       "    <tr>\n",
       "      <th>6</th>\n",
       "      <td>1</td>\n",
       "      <td>PAYMENT</td>\n",
       "      <td>7107.77</td>\n",
       "      <td>C154988899</td>\n",
       "      <td>183195.00</td>\n",
       "      <td>176087.23</td>\n",
       "      <td>M408069119</td>\n",
       "      <td>0.0</td>\n",
       "      <td>0.00</td>\n",
       "      <td>0</td>\n",
       "      <td>0</td>\n",
       "    </tr>\n",
       "    <tr>\n",
       "      <th>7</th>\n",
       "      <td>1</td>\n",
       "      <td>PAYMENT</td>\n",
       "      <td>7861.64</td>\n",
       "      <td>C1912850431</td>\n",
       "      <td>176087.23</td>\n",
       "      <td>168225.59</td>\n",
       "      <td>M633326333</td>\n",
       "      <td>0.0</td>\n",
       "      <td>0.00</td>\n",
       "      <td>0</td>\n",
       "      <td>0</td>\n",
       "    </tr>\n",
       "    <tr>\n",
       "      <th>8</th>\n",
       "      <td>1</td>\n",
       "      <td>PAYMENT</td>\n",
       "      <td>4024.36</td>\n",
       "      <td>C1265012928</td>\n",
       "      <td>2671.00</td>\n",
       "      <td>0.00</td>\n",
       "      <td>M1176932104</td>\n",
       "      <td>0.0</td>\n",
       "      <td>0.00</td>\n",
       "      <td>0</td>\n",
       "      <td>0</td>\n",
       "    </tr>\n",
       "    <tr>\n",
       "      <th>9</th>\n",
       "      <td>1</td>\n",
       "      <td>DEBIT</td>\n",
       "      <td>5337.77</td>\n",
       "      <td>C712410124</td>\n",
       "      <td>41720.00</td>\n",
       "      <td>36382.23</td>\n",
       "      <td>C195600860</td>\n",
       "      <td>41898.0</td>\n",
       "      <td>40348.79</td>\n",
       "      <td>0</td>\n",
       "      <td>0</td>\n",
       "    </tr>\n",
       "  </tbody>\n",
       "</table>\n",
       "</div>"
      ],
      "text/plain": [
       "   step      type    amount     nameOrig  oldbalanceOrg  newbalanceOrig  \\\n",
       "0     1   PAYMENT   9839.64  C1231006815      170136.00       160296.36   \n",
       "1     1   PAYMENT   1864.28  C1666544295       21249.00        19384.72   \n",
       "2     1  TRANSFER    181.00  C1305486145         181.00            0.00   \n",
       "3     1  CASH_OUT    181.00   C840083671         181.00            0.00   \n",
       "4     1   PAYMENT  11668.14  C2048537720       41554.00        29885.86   \n",
       "5     1   PAYMENT   7817.71    C90045638       53860.00        46042.29   \n",
       "6     1   PAYMENT   7107.77   C154988899      183195.00       176087.23   \n",
       "7     1   PAYMENT   7861.64  C1912850431      176087.23       168225.59   \n",
       "8     1   PAYMENT   4024.36  C1265012928        2671.00            0.00   \n",
       "9     1     DEBIT   5337.77   C712410124       41720.00        36382.23   \n",
       "\n",
       "      nameDest  oldbalanceDest  newbalanceDest  isFraud  isFlaggedFraud  \n",
       "0  M1979787155             0.0            0.00        0               0  \n",
       "1  M2044282225             0.0            0.00        0               0  \n",
       "2   C553264065             0.0            0.00        1               0  \n",
       "3    C38997010         21182.0            0.00        1               0  \n",
       "4  M1230701703             0.0            0.00        0               0  \n",
       "5   M573487274             0.0            0.00        0               0  \n",
       "6   M408069119             0.0            0.00        0               0  \n",
       "7   M633326333             0.0            0.00        0               0  \n",
       "8  M1176932104             0.0            0.00        0               0  \n",
       "9   C195600860         41898.0        40348.79        0               0  "
      ]
     },
     "execution_count": 5,
     "metadata": {},
     "output_type": "execute_result"
    }
   ],
   "source": [
    "df.head(10)"
   ]
  },
  {
   "cell_type": "code",
   "execution_count": 6,
   "metadata": {
    "execution": {
     "iopub.execute_input": "2024-12-14T19:54:36.392820Z",
     "iopub.status.busy": "2024-12-14T19:54:36.392417Z",
     "iopub.status.idle": "2024-12-14T19:54:36.412466Z",
     "shell.execute_reply": "2024-12-14T19:54:36.411116Z",
     "shell.execute_reply.started": "2024-12-14T19:54:36.392777Z"
    },
    "trusted": true
   },
   "outputs": [
    {
     "data": {
      "text/html": [
       "<div>\n",
       "<style scoped>\n",
       "    .dataframe tbody tr th:only-of-type {\n",
       "        vertical-align: middle;\n",
       "    }\n",
       "\n",
       "    .dataframe tbody tr th {\n",
       "        vertical-align: top;\n",
       "    }\n",
       "\n",
       "    .dataframe thead th {\n",
       "        text-align: right;\n",
       "    }\n",
       "</style>\n",
       "<table border=\"1\" class=\"dataframe\">\n",
       "  <thead>\n",
       "    <tr style=\"text-align: right;\">\n",
       "      <th></th>\n",
       "      <th>step</th>\n",
       "      <th>type</th>\n",
       "      <th>amount</th>\n",
       "      <th>nameOrig</th>\n",
       "      <th>oldbalanceOrg</th>\n",
       "      <th>newbalanceOrig</th>\n",
       "      <th>nameDest</th>\n",
       "      <th>oldbalanceDest</th>\n",
       "      <th>newbalanceDest</th>\n",
       "      <th>isFraud</th>\n",
       "      <th>isFlaggedFraud</th>\n",
       "    </tr>\n",
       "  </thead>\n",
       "  <tbody>\n",
       "    <tr>\n",
       "      <th>102725</th>\n",
       "      <td>10</td>\n",
       "      <td>CASH_IN</td>\n",
       "      <td>215356.56</td>\n",
       "      <td>C2129587433</td>\n",
       "      <td>20557.00</td>\n",
       "      <td>235913.56</td>\n",
       "      <td>C1848552071</td>\n",
       "      <td>6442.43</td>\n",
       "      <td>0.00</td>\n",
       "      <td>0</td>\n",
       "      <td>0</td>\n",
       "    </tr>\n",
       "    <tr>\n",
       "      <th>102726</th>\n",
       "      <td>10</td>\n",
       "      <td>CASH_OUT</td>\n",
       "      <td>417808.25</td>\n",
       "      <td>C209979200</td>\n",
       "      <td>21510.00</td>\n",
       "      <td>0.00</td>\n",
       "      <td>C979778117</td>\n",
       "      <td>234049.06</td>\n",
       "      <td>843616.39</td>\n",
       "      <td>0</td>\n",
       "      <td>0</td>\n",
       "    </tr>\n",
       "    <tr>\n",
       "      <th>102727</th>\n",
       "      <td>10</td>\n",
       "      <td>CASH_IN</td>\n",
       "      <td>119983.69</td>\n",
       "      <td>C302495061</td>\n",
       "      <td>61623.00</td>\n",
       "      <td>181606.69</td>\n",
       "      <td>C585017276</td>\n",
       "      <td>0.00</td>\n",
       "      <td>0.00</td>\n",
       "      <td>0</td>\n",
       "      <td>0</td>\n",
       "    </tr>\n",
       "    <tr>\n",
       "      <th>102728</th>\n",
       "      <td>10</td>\n",
       "      <td>CASH_OUT</td>\n",
       "      <td>374803.88</td>\n",
       "      <td>C99452710</td>\n",
       "      <td>63245.00</td>\n",
       "      <td>0.00</td>\n",
       "      <td>C664038638</td>\n",
       "      <td>964585.58</td>\n",
       "      <td>1421881.86</td>\n",
       "      <td>0</td>\n",
       "      <td>0</td>\n",
       "    </tr>\n",
       "    <tr>\n",
       "      <th>102729</th>\n",
       "      <td>10</td>\n",
       "      <td>CASH_IN</td>\n",
       "      <td>425821.82</td>\n",
       "      <td>C208513750</td>\n",
       "      <td>32999.00</td>\n",
       "      <td>458820.82</td>\n",
       "      <td>C1806844315</td>\n",
       "      <td>61627.00</td>\n",
       "      <td>0.00</td>\n",
       "      <td>0</td>\n",
       "      <td>0</td>\n",
       "    </tr>\n",
       "    <tr>\n",
       "      <th>102730</th>\n",
       "      <td>10</td>\n",
       "      <td>CASH_OUT</td>\n",
       "      <td>378384.89</td>\n",
       "      <td>C553587228</td>\n",
       "      <td>167.00</td>\n",
       "      <td>0.00</td>\n",
       "      <td>C1781090157</td>\n",
       "      <td>4740825.47</td>\n",
       "      <td>5873978.21</td>\n",
       "      <td>0</td>\n",
       "      <td>0</td>\n",
       "    </tr>\n",
       "    <tr>\n",
       "      <th>102731</th>\n",
       "      <td>10</td>\n",
       "      <td>PAYMENT</td>\n",
       "      <td>25291.34</td>\n",
       "      <td>C259892811</td>\n",
       "      <td>38362.72</td>\n",
       "      <td>13071.39</td>\n",
       "      <td>M1723909173</td>\n",
       "      <td>0.00</td>\n",
       "      <td>0.00</td>\n",
       "      <td>0</td>\n",
       "      <td>0</td>\n",
       "    </tr>\n",
       "    <tr>\n",
       "      <th>102732</th>\n",
       "      <td>10</td>\n",
       "      <td>CASH_OUT</td>\n",
       "      <td>186418.07</td>\n",
       "      <td>C127592737</td>\n",
       "      <td>13071.39</td>\n",
       "      <td>0.00</td>\n",
       "      <td>C364592569</td>\n",
       "      <td>521280.03</td>\n",
       "      <td>345930.37</td>\n",
       "      <td>0</td>\n",
       "      <td>0</td>\n",
       "    </tr>\n",
       "    <tr>\n",
       "      <th>102733</th>\n",
       "      <td>10</td>\n",
       "      <td>CASH_OUT</td>\n",
       "      <td>606095.77</td>\n",
       "      <td>C1596814396</td>\n",
       "      <td>0.00</td>\n",
       "      <td>0.00</td>\n",
       "      <td>C1730312920</td>\n",
       "      <td>1028211.24</td>\n",
       "      <td>1819214.16</td>\n",
       "      <td>0</td>\n",
       "      <td>0</td>\n",
       "    </tr>\n",
       "    <tr>\n",
       "      <th>102734</th>\n",
       "      <td>10</td>\n",
       "      <td>CASH_OUT</td>\n",
       "      <td>113435.56</td>\n",
       "      <td>C1031855724</td>\n",
       "      <td>0.00</td>\n",
       "      <td>0.00</td>\n",
       "      <td>C2036376635</td>\n",
       "      <td>132059.00</td>\n",
       "      <td>564091.26</td>\n",
       "      <td>0</td>\n",
       "      <td>0</td>\n",
       "    </tr>\n",
       "  </tbody>\n",
       "</table>\n",
       "</div>"
      ],
      "text/plain": [
       "        step      type     amount     nameOrig  oldbalanceOrg  newbalanceOrig  \\\n",
       "102725    10   CASH_IN  215356.56  C2129587433       20557.00       235913.56   \n",
       "102726    10  CASH_OUT  417808.25   C209979200       21510.00            0.00   \n",
       "102727    10   CASH_IN  119983.69   C302495061       61623.00       181606.69   \n",
       "102728    10  CASH_OUT  374803.88    C99452710       63245.00            0.00   \n",
       "102729    10   CASH_IN  425821.82   C208513750       32999.00       458820.82   \n",
       "102730    10  CASH_OUT  378384.89   C553587228         167.00            0.00   \n",
       "102731    10   PAYMENT   25291.34   C259892811       38362.72        13071.39   \n",
       "102732    10  CASH_OUT  186418.07   C127592737       13071.39            0.00   \n",
       "102733    10  CASH_OUT  606095.77  C1596814396           0.00            0.00   \n",
       "102734    10  CASH_OUT  113435.56  C1031855724           0.00            0.00   \n",
       "\n",
       "           nameDest  oldbalanceDest  newbalanceDest  isFraud  isFlaggedFraud  \n",
       "102725  C1848552071         6442.43            0.00        0               0  \n",
       "102726   C979778117       234049.06       843616.39        0               0  \n",
       "102727   C585017276            0.00            0.00        0               0  \n",
       "102728   C664038638       964585.58      1421881.86        0               0  \n",
       "102729  C1806844315        61627.00            0.00        0               0  \n",
       "102730  C1781090157      4740825.47      5873978.21        0               0  \n",
       "102731  M1723909173            0.00            0.00        0               0  \n",
       "102732   C364592569       521280.03       345930.37        0               0  \n",
       "102733  C1730312920      1028211.24      1819214.16        0               0  \n",
       "102734  C2036376635       132059.00       564091.26        0               0  "
      ]
     },
     "execution_count": 6,
     "metadata": {},
     "output_type": "execute_result"
    }
   ],
   "source": [
    "df.tail(10)"
   ]
  },
  {
   "cell_type": "code",
   "execution_count": 7,
   "metadata": {
    "execution": {
     "iopub.execute_input": "2024-12-14T19:54:40.794965Z",
     "iopub.status.busy": "2024-12-14T19:54:40.794556Z",
     "iopub.status.idle": "2024-12-14T19:54:40.802591Z",
     "shell.execute_reply": "2024-12-14T19:54:40.801368Z",
     "shell.execute_reply.started": "2024-12-14T19:54:40.794929Z"
    },
    "trusted": true
   },
   "outputs": [
    {
     "data": {
      "text/plain": [
       "Index(['step', 'type', 'amount', 'nameOrig', 'oldbalanceOrg', 'newbalanceOrig',\n",
       "       'nameDest', 'oldbalanceDest', 'newbalanceDest', 'isFraud',\n",
       "       'isFlaggedFraud'],\n",
       "      dtype='object')"
      ]
     },
     "execution_count": 7,
     "metadata": {},
     "output_type": "execute_result"
    }
   ],
   "source": [
    "df.columns\n"
   ]
  },
  {
   "cell_type": "code",
   "execution_count": 8,
   "metadata": {
    "execution": {
     "iopub.execute_input": "2024-12-14T19:54:44.033652Z",
     "iopub.status.busy": "2024-12-14T19:54:44.033241Z",
     "iopub.status.idle": "2024-12-14T19:54:44.080429Z",
     "shell.execute_reply": "2024-12-14T19:54:44.079040Z",
     "shell.execute_reply.started": "2024-12-14T19:54:44.033608Z"
    },
    "trusted": true
   },
   "outputs": [
    {
     "name": "stdout",
     "output_type": "stream",
     "text": [
      "<class 'pandas.core.frame.DataFrame'>\n",
      "RangeIndex: 102735 entries, 0 to 102734\n",
      "Data columns (total 11 columns):\n",
      " #   Column          Non-Null Count   Dtype  \n",
      "---  ------          --------------   -----  \n",
      " 0   step            102735 non-null  int64  \n",
      " 1   type            102735 non-null  object \n",
      " 2   amount          102735 non-null  float64\n",
      " 3   nameOrig        102735 non-null  object \n",
      " 4   oldbalanceOrg   102735 non-null  float64\n",
      " 5   newbalanceOrig  102735 non-null  float64\n",
      " 6   nameDest        102735 non-null  object \n",
      " 7   oldbalanceDest  102735 non-null  float64\n",
      " 8   newbalanceDest  102735 non-null  float64\n",
      " 9   isFraud         102735 non-null  int64  \n",
      " 10  isFlaggedFraud  102735 non-null  int64  \n",
      "dtypes: float64(5), int64(3), object(3)\n",
      "memory usage: 8.6+ MB\n"
     ]
    }
   ],
   "source": [
    "df.info()"
   ]
  },
  {
   "cell_type": "code",
   "execution_count": 9,
   "metadata": {
    "execution": {
     "iopub.execute_input": "2024-12-14T19:54:48.415010Z",
     "iopub.status.busy": "2024-12-14T19:54:48.414629Z",
     "iopub.status.idle": "2024-12-14T19:54:48.425446Z",
     "shell.execute_reply": "2024-12-14T19:54:48.424364Z",
     "shell.execute_reply.started": "2024-12-14T19:54:48.414976Z"
    },
    "trusted": true
   },
   "outputs": [
    {
     "data": {
      "text/plain": [
       "array([ 1,  2,  3,  4,  5,  6,  7,  8,  9, 10])"
      ]
     },
     "execution_count": 9,
     "metadata": {},
     "output_type": "execute_result"
    }
   ],
   "source": [
    "df['step'].unique()"
   ]
  },
  {
   "cell_type": "code",
   "execution_count": 10,
   "metadata": {
    "execution": {
     "iopub.execute_input": "2024-12-14T19:54:52.089064Z",
     "iopub.status.busy": "2024-12-14T19:54:52.088705Z",
     "iopub.status.idle": "2024-12-14T19:54:52.119068Z",
     "shell.execute_reply": "2024-12-14T19:54:52.117824Z",
     "shell.execute_reply.started": "2024-12-14T19:54:52.089035Z"
    },
    "trusted": true
   },
   "outputs": [
    {
     "data": {
      "text/plain": [
       "step              0\n",
       "type              0\n",
       "amount            0\n",
       "nameOrig          0\n",
       "oldbalanceOrg     0\n",
       "newbalanceOrig    0\n",
       "nameDest          0\n",
       "oldbalanceDest    0\n",
       "newbalanceDest    0\n",
       "isFraud           0\n",
       "isFlaggedFraud    0\n",
       "dtype: int64"
      ]
     },
     "execution_count": 10,
     "metadata": {},
     "output_type": "execute_result"
    }
   ],
   "source": [
    "df.isnull().sum()"
   ]
  },
  {
   "cell_type": "code",
   "execution_count": 11,
   "metadata": {
    "execution": {
     "iopub.execute_input": "2024-12-14T19:54:55.642927Z",
     "iopub.status.busy": "2024-12-14T19:54:55.642526Z",
     "iopub.status.idle": "2024-12-14T19:54:55.649955Z",
     "shell.execute_reply": "2024-12-14T19:54:55.648747Z",
     "shell.execute_reply.started": "2024-12-14T19:54:55.642891Z"
    },
    "trusted": true
   },
   "outputs": [
    {
     "data": {
      "text/plain": [
       "(102735, 11)"
      ]
     },
     "execution_count": 11,
     "metadata": {},
     "output_type": "execute_result"
    }
   ],
   "source": [
    "df.shape"
   ]
  },
  {
   "cell_type": "code",
   "execution_count": 12,
   "metadata": {
    "execution": {
     "iopub.execute_input": "2024-12-14T19:55:00.770596Z",
     "iopub.status.busy": "2024-12-14T19:55:00.769805Z",
     "iopub.status.idle": "2024-12-14T19:55:00.782516Z",
     "shell.execute_reply": "2024-12-14T19:55:00.781367Z",
     "shell.execute_reply.started": "2024-12-14T19:55:00.770547Z"
    },
    "trusted": true
   },
   "outputs": [
    {
     "data": {
      "text/plain": [
       "array(['PAYMENT', 'TRANSFER', 'CASH_OUT', 'DEBIT', 'CASH_IN'],\n",
       "      dtype=object)"
      ]
     },
     "execution_count": 12,
     "metadata": {},
     "output_type": "execute_result"
    }
   ],
   "source": [
    "df['type'].unique()"
   ]
  },
  {
   "cell_type": "code",
   "execution_count": 13,
   "metadata": {
    "execution": {
     "iopub.execute_input": "2024-12-14T19:55:03.931999Z",
     "iopub.status.busy": "2024-12-14T19:55:03.931510Z",
     "iopub.status.idle": "2024-12-14T19:55:03.950162Z",
     "shell.execute_reply": "2024-12-14T19:55:03.948835Z",
     "shell.execute_reply.started": "2024-12-14T19:55:03.931956Z"
    },
    "trusted": true
   },
   "outputs": [],
   "source": [
    "type=df['type'].value_counts()"
   ]
  },
  {
   "cell_type": "code",
   "execution_count": 14,
   "metadata": {
    "execution": {
     "iopub.execute_input": "2024-12-14T19:55:08.407039Z",
     "iopub.status.busy": "2024-12-14T19:55:08.406492Z",
     "iopub.status.idle": "2024-12-14T19:55:08.414540Z",
     "shell.execute_reply": "2024-12-14T19:55:08.413298Z",
     "shell.execute_reply.started": "2024-12-14T19:55:08.407000Z"
    },
    "trusted": true
   },
   "outputs": [
    {
     "data": {
      "text/plain": [
       "type\n",
       "PAYMENT     40385\n",
       "CASH_OUT    31798\n",
       "CASH_IN     20764\n",
       "TRANSFER     8772\n",
       "DEBIT        1016\n",
       "Name: count, dtype: int64"
      ]
     },
     "execution_count": 14,
     "metadata": {},
     "output_type": "execute_result"
    }
   ],
   "source": [
    "type"
   ]
  },
  {
   "cell_type": "code",
   "execution_count": 15,
   "metadata": {
    "execution": {
     "iopub.execute_input": "2024-12-14T19:55:12.546341Z",
     "iopub.status.busy": "2024-12-14T19:55:12.545417Z",
     "iopub.status.idle": "2024-12-14T19:55:12.551764Z",
     "shell.execute_reply": "2024-12-14T19:55:12.550816Z",
     "shell.execute_reply.started": "2024-12-14T19:55:12.546261Z"
    },
    "trusted": true
   },
   "outputs": [],
   "source": [
    "transaction=type.index"
   ]
  },
  {
   "cell_type": "code",
   "execution_count": 16,
   "metadata": {
    "execution": {
     "iopub.execute_input": "2024-12-14T19:55:16.643729Z",
     "iopub.status.busy": "2024-12-14T19:55:16.643331Z",
     "iopub.status.idle": "2024-12-14T19:55:16.648806Z",
     "shell.execute_reply": "2024-12-14T19:55:16.647636Z",
     "shell.execute_reply.started": "2024-12-14T19:55:16.643692Z"
    },
    "trusted": true
   },
   "outputs": [],
   "source": [
    "quantity=type.values"
   ]
  },
  {
   "cell_type": "code",
   "execution_count": 17,
   "metadata": {
    "execution": {
     "iopub.execute_input": "2024-12-14T19:55:20.771710Z",
     "iopub.status.busy": "2024-12-14T19:55:20.771327Z",
     "iopub.status.idle": "2024-12-14T19:55:21.531800Z",
     "shell.execute_reply": "2024-12-14T19:55:21.530220Z",
     "shell.execute_reply.started": "2024-12-14T19:55:20.771675Z"
    },
    "trusted": true
   },
   "outputs": [],
   "source": [
    "#create piechart\n",
    "import plotly.express as px\n",
    "import plotly.io as pio\n",
    "\n",
    "pio.renderers.default = 'kaggle'  # or 'kaggle'"
   ]
  },
  {
   "cell_type": "code",
   "execution_count": 18,
   "metadata": {
    "execution": {
     "iopub.execute_input": "2024-12-14T19:55:24.327027Z",
     "iopub.status.busy": "2024-12-14T19:55:24.326643Z",
     "iopub.status.idle": "2024-12-14T19:55:25.995952Z",
     "shell.execute_reply": "2024-12-14T19:55:25.994809Z",
     "shell.execute_reply.started": "2024-12-14T19:55:24.326994Z"
    },
    "trusted": true
   },
   "outputs": [
    {
     "data": {
      "text/html": [
       "        <script type=\"text/javascript\">\n",
       "        window.PlotlyConfig = {MathJaxConfig: 'local'};\n",
       "        if (window.MathJax && window.MathJax.Hub && window.MathJax.Hub.Config) {window.MathJax.Hub.Config({SVG: {font: \"STIX-Web\"}});}\n",
       "        if (typeof require !== 'undefined') {\n",
       "        require.undef(\"plotly\");\n",
       "        requirejs.config({\n",
       "            paths: {\n",
       "                'plotly': ['https://cdn.plot.ly/plotly-2.32.0.min']\n",
       "            }\n",
       "        });\n",
       "        require(['plotly'], function(Plotly) {\n",
       "            window._Plotly = Plotly;\n",
       "        });\n",
       "        }\n",
       "        </script>\n",
       "        "
      ]
     },
     "metadata": {},
     "output_type": "display_data"
    },
    {
     "data": {
      "text/html": [
       "<div>                            <div id=\"e2319184-04ba-4f22-99ae-b844f217541c\" class=\"plotly-graph-div\" style=\"height:525px; width:100%;\"></div>            <script type=\"text/javascript\">                require([\"plotly\"], function(Plotly) {                    window.PLOTLYENV=window.PLOTLYENV || {};                                    if (document.getElementById(\"e2319184-04ba-4f22-99ae-b844f217541c\")) {                    Plotly.newPlot(                        \"e2319184-04ba-4f22-99ae-b844f217541c\",                        [{\"domain\":{\"x\":[0.0,1.0],\"y\":[0.0,1.0]},\"hole\":0.4,\"hovertemplate\":\"label=%{label}\\u003cbr\\u003evalue=%{value}\\u003cextra\\u003e\\u003c\\u002fextra\\u003e\",\"labels\":[\"PAYMENT\",\"CASH_OUT\",\"CASH_IN\",\"TRANSFER\",\"DEBIT\"],\"legendgroup\":\"\",\"name\":\"\",\"showlegend\":true,\"values\":[40385,31798,20764,8772,1016],\"type\":\"pie\"}],                        {\"template\":{\"data\":{\"histogram2dcontour\":[{\"type\":\"histogram2dcontour\",\"colorbar\":{\"outlinewidth\":0,\"ticks\":\"\"},\"colorscale\":[[0.0,\"#0d0887\"],[0.1111111111111111,\"#46039f\"],[0.2222222222222222,\"#7201a8\"],[0.3333333333333333,\"#9c179e\"],[0.4444444444444444,\"#bd3786\"],[0.5555555555555556,\"#d8576b\"],[0.6666666666666666,\"#ed7953\"],[0.7777777777777778,\"#fb9f3a\"],[0.8888888888888888,\"#fdca26\"],[1.0,\"#f0f921\"]]}],\"choropleth\":[{\"type\":\"choropleth\",\"colorbar\":{\"outlinewidth\":0,\"ticks\":\"\"}}],\"histogram2d\":[{\"type\":\"histogram2d\",\"colorbar\":{\"outlinewidth\":0,\"ticks\":\"\"},\"colorscale\":[[0.0,\"#0d0887\"],[0.1111111111111111,\"#46039f\"],[0.2222222222222222,\"#7201a8\"],[0.3333333333333333,\"#9c179e\"],[0.4444444444444444,\"#bd3786\"],[0.5555555555555556,\"#d8576b\"],[0.6666666666666666,\"#ed7953\"],[0.7777777777777778,\"#fb9f3a\"],[0.8888888888888888,\"#fdca26\"],[1.0,\"#f0f921\"]]}],\"heatmap\":[{\"type\":\"heatmap\",\"colorbar\":{\"outlinewidth\":0,\"ticks\":\"\"},\"colorscale\":[[0.0,\"#0d0887\"],[0.1111111111111111,\"#46039f\"],[0.2222222222222222,\"#7201a8\"],[0.3333333333333333,\"#9c179e\"],[0.4444444444444444,\"#bd3786\"],[0.5555555555555556,\"#d8576b\"],[0.6666666666666666,\"#ed7953\"],[0.7777777777777778,\"#fb9f3a\"],[0.8888888888888888,\"#fdca26\"],[1.0,\"#f0f921\"]]}],\"heatmapgl\":[{\"type\":\"heatmapgl\",\"colorbar\":{\"outlinewidth\":0,\"ticks\":\"\"},\"colorscale\":[[0.0,\"#0d0887\"],[0.1111111111111111,\"#46039f\"],[0.2222222222222222,\"#7201a8\"],[0.3333333333333333,\"#9c179e\"],[0.4444444444444444,\"#bd3786\"],[0.5555555555555556,\"#d8576b\"],[0.6666666666666666,\"#ed7953\"],[0.7777777777777778,\"#fb9f3a\"],[0.8888888888888888,\"#fdca26\"],[1.0,\"#f0f921\"]]}],\"contourcarpet\":[{\"type\":\"contourcarpet\",\"colorbar\":{\"outlinewidth\":0,\"ticks\":\"\"}}],\"contour\":[{\"type\":\"contour\",\"colorbar\":{\"outlinewidth\":0,\"ticks\":\"\"},\"colorscale\":[[0.0,\"#0d0887\"],[0.1111111111111111,\"#46039f\"],[0.2222222222222222,\"#7201a8\"],[0.3333333333333333,\"#9c179e\"],[0.4444444444444444,\"#bd3786\"],[0.5555555555555556,\"#d8576b\"],[0.6666666666666666,\"#ed7953\"],[0.7777777777777778,\"#fb9f3a\"],[0.8888888888888888,\"#fdca26\"],[1.0,\"#f0f921\"]]}],\"surface\":[{\"type\":\"surface\",\"colorbar\":{\"outlinewidth\":0,\"ticks\":\"\"},\"colorscale\":[[0.0,\"#0d0887\"],[0.1111111111111111,\"#46039f\"],[0.2222222222222222,\"#7201a8\"],[0.3333333333333333,\"#9c179e\"],[0.4444444444444444,\"#bd3786\"],[0.5555555555555556,\"#d8576b\"],[0.6666666666666666,\"#ed7953\"],[0.7777777777777778,\"#fb9f3a\"],[0.8888888888888888,\"#fdca26\"],[1.0,\"#f0f921\"]]}],\"mesh3d\":[{\"type\":\"mesh3d\",\"colorbar\":{\"outlinewidth\":0,\"ticks\":\"\"}}],\"scatter\":[{\"fillpattern\":{\"fillmode\":\"overlay\",\"size\":10,\"solidity\":0.2},\"type\":\"scatter\"}],\"parcoords\":[{\"type\":\"parcoords\",\"line\":{\"colorbar\":{\"outlinewidth\":0,\"ticks\":\"\"}}}],\"scatterpolargl\":[{\"type\":\"scatterpolargl\",\"marker\":{\"colorbar\":{\"outlinewidth\":0,\"ticks\":\"\"}}}],\"bar\":[{\"error_x\":{\"color\":\"#2a3f5f\"},\"error_y\":{\"color\":\"#2a3f5f\"},\"marker\":{\"line\":{\"color\":\"#E5ECF6\",\"width\":0.5},\"pattern\":{\"fillmode\":\"overlay\",\"size\":10,\"solidity\":0.2}},\"type\":\"bar\"}],\"scattergeo\":[{\"type\":\"scattergeo\",\"marker\":{\"colorbar\":{\"outlinewidth\":0,\"ticks\":\"\"}}}],\"scatterpolar\":[{\"type\":\"scatterpolar\",\"marker\":{\"colorbar\":{\"outlinewidth\":0,\"ticks\":\"\"}}}],\"histogram\":[{\"marker\":{\"pattern\":{\"fillmode\":\"overlay\",\"size\":10,\"solidity\":0.2}},\"type\":\"histogram\"}],\"scattergl\":[{\"type\":\"scattergl\",\"marker\":{\"colorbar\":{\"outlinewidth\":0,\"ticks\":\"\"}}}],\"scatter3d\":[{\"type\":\"scatter3d\",\"line\":{\"colorbar\":{\"outlinewidth\":0,\"ticks\":\"\"}},\"marker\":{\"colorbar\":{\"outlinewidth\":0,\"ticks\":\"\"}}}],\"scattermapbox\":[{\"type\":\"scattermapbox\",\"marker\":{\"colorbar\":{\"outlinewidth\":0,\"ticks\":\"\"}}}],\"scatterternary\":[{\"type\":\"scatterternary\",\"marker\":{\"colorbar\":{\"outlinewidth\":0,\"ticks\":\"\"}}}],\"scattercarpet\":[{\"type\":\"scattercarpet\",\"marker\":{\"colorbar\":{\"outlinewidth\":0,\"ticks\":\"\"}}}],\"carpet\":[{\"aaxis\":{\"endlinecolor\":\"#2a3f5f\",\"gridcolor\":\"white\",\"linecolor\":\"white\",\"minorgridcolor\":\"white\",\"startlinecolor\":\"#2a3f5f\"},\"baxis\":{\"endlinecolor\":\"#2a3f5f\",\"gridcolor\":\"white\",\"linecolor\":\"white\",\"minorgridcolor\":\"white\",\"startlinecolor\":\"#2a3f5f\"},\"type\":\"carpet\"}],\"table\":[{\"cells\":{\"fill\":{\"color\":\"#EBF0F8\"},\"line\":{\"color\":\"white\"}},\"header\":{\"fill\":{\"color\":\"#C8D4E3\"},\"line\":{\"color\":\"white\"}},\"type\":\"table\"}],\"barpolar\":[{\"marker\":{\"line\":{\"color\":\"#E5ECF6\",\"width\":0.5},\"pattern\":{\"fillmode\":\"overlay\",\"size\":10,\"solidity\":0.2}},\"type\":\"barpolar\"}],\"pie\":[{\"automargin\":true,\"type\":\"pie\"}]},\"layout\":{\"autotypenumbers\":\"strict\",\"colorway\":[\"#636efa\",\"#EF553B\",\"#00cc96\",\"#ab63fa\",\"#FFA15A\",\"#19d3f3\",\"#FF6692\",\"#B6E880\",\"#FF97FF\",\"#FECB52\"],\"font\":{\"color\":\"#2a3f5f\"},\"hovermode\":\"closest\",\"hoverlabel\":{\"align\":\"left\"},\"paper_bgcolor\":\"white\",\"plot_bgcolor\":\"#E5ECF6\",\"polar\":{\"bgcolor\":\"#E5ECF6\",\"angularaxis\":{\"gridcolor\":\"white\",\"linecolor\":\"white\",\"ticks\":\"\"},\"radialaxis\":{\"gridcolor\":\"white\",\"linecolor\":\"white\",\"ticks\":\"\"}},\"ternary\":{\"bgcolor\":\"#E5ECF6\",\"aaxis\":{\"gridcolor\":\"white\",\"linecolor\":\"white\",\"ticks\":\"\"},\"baxis\":{\"gridcolor\":\"white\",\"linecolor\":\"white\",\"ticks\":\"\"},\"caxis\":{\"gridcolor\":\"white\",\"linecolor\":\"white\",\"ticks\":\"\"}},\"coloraxis\":{\"colorbar\":{\"outlinewidth\":0,\"ticks\":\"\"}},\"colorscale\":{\"sequential\":[[0.0,\"#0d0887\"],[0.1111111111111111,\"#46039f\"],[0.2222222222222222,\"#7201a8\"],[0.3333333333333333,\"#9c179e\"],[0.4444444444444444,\"#bd3786\"],[0.5555555555555556,\"#d8576b\"],[0.6666666666666666,\"#ed7953\"],[0.7777777777777778,\"#fb9f3a\"],[0.8888888888888888,\"#fdca26\"],[1.0,\"#f0f921\"]],\"sequentialminus\":[[0.0,\"#0d0887\"],[0.1111111111111111,\"#46039f\"],[0.2222222222222222,\"#7201a8\"],[0.3333333333333333,\"#9c179e\"],[0.4444444444444444,\"#bd3786\"],[0.5555555555555556,\"#d8576b\"],[0.6666666666666666,\"#ed7953\"],[0.7777777777777778,\"#fb9f3a\"],[0.8888888888888888,\"#fdca26\"],[1.0,\"#f0f921\"]],\"diverging\":[[0,\"#8e0152\"],[0.1,\"#c51b7d\"],[0.2,\"#de77ae\"],[0.3,\"#f1b6da\"],[0.4,\"#fde0ef\"],[0.5,\"#f7f7f7\"],[0.6,\"#e6f5d0\"],[0.7,\"#b8e186\"],[0.8,\"#7fbc41\"],[0.9,\"#4d9221\"],[1,\"#276419\"]]},\"xaxis\":{\"gridcolor\":\"white\",\"linecolor\":\"white\",\"ticks\":\"\",\"title\":{\"standoff\":15},\"zerolinecolor\":\"white\",\"automargin\":true,\"zerolinewidth\":2},\"yaxis\":{\"gridcolor\":\"white\",\"linecolor\":\"white\",\"ticks\":\"\",\"title\":{\"standoff\":15},\"zerolinecolor\":\"white\",\"automargin\":true,\"zerolinewidth\":2},\"scene\":{\"xaxis\":{\"backgroundcolor\":\"#E5ECF6\",\"gridcolor\":\"white\",\"linecolor\":\"white\",\"showbackground\":true,\"ticks\":\"\",\"zerolinecolor\":\"white\",\"gridwidth\":2},\"yaxis\":{\"backgroundcolor\":\"#E5ECF6\",\"gridcolor\":\"white\",\"linecolor\":\"white\",\"showbackground\":true,\"ticks\":\"\",\"zerolinecolor\":\"white\",\"gridwidth\":2},\"zaxis\":{\"backgroundcolor\":\"#E5ECF6\",\"gridcolor\":\"white\",\"linecolor\":\"white\",\"showbackground\":true,\"ticks\":\"\",\"zerolinecolor\":\"white\",\"gridwidth\":2}},\"shapedefaults\":{\"line\":{\"color\":\"#2a3f5f\"}},\"annotationdefaults\":{\"arrowcolor\":\"#2a3f5f\",\"arrowhead\":0,\"arrowwidth\":1},\"geo\":{\"bgcolor\":\"white\",\"landcolor\":\"#E5ECF6\",\"subunitcolor\":\"white\",\"showland\":true,\"showlakes\":true,\"lakecolor\":\"white\"},\"title\":{\"x\":0.05},\"mapbox\":{\"style\":\"light\"}}},\"legend\":{\"tracegroupgap\":0},\"title\":{\"text\":\"Distribution of transaction type\"}},                        {\"responsive\": true}                    ).then(function(){\n",
       "                            \n",
       "var gd = document.getElementById('e2319184-04ba-4f22-99ae-b844f217541c');\n",
       "var x = new MutationObserver(function (mutations, observer) {{\n",
       "        var display = window.getComputedStyle(gd).display;\n",
       "        if (!display || display === 'none') {{\n",
       "            console.log([gd, 'removed!']);\n",
       "            Plotly.purge(gd);\n",
       "            observer.disconnect();\n",
       "        }}\n",
       "}});\n",
       "\n",
       "// Listen for the removal of the full notebook cells\n",
       "var notebookContainer = gd.closest('#notebook-container');\n",
       "if (notebookContainer) {{\n",
       "    x.observe(notebookContainer, {childList: true});\n",
       "}}\n",
       "\n",
       "// Listen for the clearing of the current output cell\n",
       "var outputEl = gd.closest('.output');\n",
       "if (outputEl) {{\n",
       "    x.observe(outputEl, {childList: true});\n",
       "}}\n",
       "\n",
       "                        })                };                });            </script>        </div>"
      ]
     },
     "metadata": {},
     "output_type": "display_data"
    }
   ],
   "source": [
    "fig=px.pie(df,values=quantity,names=transaction,hole=0.4,title=\"Distribution of transaction type\")\n",
    "fig.show()\n",
    "\n",
    "\n",
    "fig.write_html(\"output.html\")  # Save to an HTML file\n"
   ]
  },
  {
   "cell_type": "code",
   "execution_count": 20,
   "metadata": {
    "execution": {
     "iopub.execute_input": "2024-12-14T19:55:32.441744Z",
     "iopub.status.busy": "2024-12-14T19:55:32.441343Z",
     "iopub.status.idle": "2024-12-14T19:55:32.474540Z",
     "shell.execute_reply": "2024-12-14T19:55:32.473381Z",
     "shell.execute_reply.started": "2024-12-14T19:55:32.441707Z"
    },
    "trusted": true
   },
   "outputs": [],
   "source": [
    "df=df.dropna()"
   ]
  },
  {
   "cell_type": "code",
   "execution_count": 21,
   "metadata": {
    "execution": {
     "iopub.execute_input": "2024-12-14T19:55:36.077077Z",
     "iopub.status.busy": "2024-12-14T19:55:36.076579Z",
     "iopub.status.idle": "2024-12-14T19:55:36.105533Z",
     "shell.execute_reply": "2024-12-14T19:55:36.104307Z",
     "shell.execute_reply.started": "2024-12-14T19:55:36.077030Z"
    },
    "trusted": true
   },
   "outputs": [
    {
     "data": {
      "text/html": [
       "<div>\n",
       "<style scoped>\n",
       "    .dataframe tbody tr th:only-of-type {\n",
       "        vertical-align: middle;\n",
       "    }\n",
       "\n",
       "    .dataframe tbody tr th {\n",
       "        vertical-align: top;\n",
       "    }\n",
       "\n",
       "    .dataframe thead th {\n",
       "        text-align: right;\n",
       "    }\n",
       "</style>\n",
       "<table border=\"1\" class=\"dataframe\">\n",
       "  <thead>\n",
       "    <tr style=\"text-align: right;\">\n",
       "      <th></th>\n",
       "      <th>step</th>\n",
       "      <th>type</th>\n",
       "      <th>amount</th>\n",
       "      <th>nameOrig</th>\n",
       "      <th>oldbalanceOrg</th>\n",
       "      <th>newbalanceOrig</th>\n",
       "      <th>nameDest</th>\n",
       "      <th>oldbalanceDest</th>\n",
       "      <th>newbalanceDest</th>\n",
       "      <th>isFraud</th>\n",
       "      <th>isFlaggedFraud</th>\n",
       "    </tr>\n",
       "  </thead>\n",
       "  <tbody>\n",
       "    <tr>\n",
       "      <th>0</th>\n",
       "      <td>1</td>\n",
       "      <td>PAYMENT</td>\n",
       "      <td>9839.64</td>\n",
       "      <td>C1231006815</td>\n",
       "      <td>170136.00</td>\n",
       "      <td>160296.36</td>\n",
       "      <td>M1979787155</td>\n",
       "      <td>0.00</td>\n",
       "      <td>0.00</td>\n",
       "      <td>0</td>\n",
       "      <td>0</td>\n",
       "    </tr>\n",
       "    <tr>\n",
       "      <th>1</th>\n",
       "      <td>1</td>\n",
       "      <td>PAYMENT</td>\n",
       "      <td>1864.28</td>\n",
       "      <td>C1666544295</td>\n",
       "      <td>21249.00</td>\n",
       "      <td>19384.72</td>\n",
       "      <td>M2044282225</td>\n",
       "      <td>0.00</td>\n",
       "      <td>0.00</td>\n",
       "      <td>0</td>\n",
       "      <td>0</td>\n",
       "    </tr>\n",
       "    <tr>\n",
       "      <th>2</th>\n",
       "      <td>1</td>\n",
       "      <td>TRANSFER</td>\n",
       "      <td>181.00</td>\n",
       "      <td>C1305486145</td>\n",
       "      <td>181.00</td>\n",
       "      <td>0.00</td>\n",
       "      <td>C553264065</td>\n",
       "      <td>0.00</td>\n",
       "      <td>0.00</td>\n",
       "      <td>1</td>\n",
       "      <td>0</td>\n",
       "    </tr>\n",
       "    <tr>\n",
       "      <th>3</th>\n",
       "      <td>1</td>\n",
       "      <td>CASH_OUT</td>\n",
       "      <td>181.00</td>\n",
       "      <td>C840083671</td>\n",
       "      <td>181.00</td>\n",
       "      <td>0.00</td>\n",
       "      <td>C38997010</td>\n",
       "      <td>21182.00</td>\n",
       "      <td>0.00</td>\n",
       "      <td>1</td>\n",
       "      <td>0</td>\n",
       "    </tr>\n",
       "    <tr>\n",
       "      <th>4</th>\n",
       "      <td>1</td>\n",
       "      <td>PAYMENT</td>\n",
       "      <td>11668.14</td>\n",
       "      <td>C2048537720</td>\n",
       "      <td>41554.00</td>\n",
       "      <td>29885.86</td>\n",
       "      <td>M1230701703</td>\n",
       "      <td>0.00</td>\n",
       "      <td>0.00</td>\n",
       "      <td>0</td>\n",
       "      <td>0</td>\n",
       "    </tr>\n",
       "    <tr>\n",
       "      <th>...</th>\n",
       "      <td>...</td>\n",
       "      <td>...</td>\n",
       "      <td>...</td>\n",
       "      <td>...</td>\n",
       "      <td>...</td>\n",
       "      <td>...</td>\n",
       "      <td>...</td>\n",
       "      <td>...</td>\n",
       "      <td>...</td>\n",
       "      <td>...</td>\n",
       "      <td>...</td>\n",
       "    </tr>\n",
       "    <tr>\n",
       "      <th>102730</th>\n",
       "      <td>10</td>\n",
       "      <td>CASH_OUT</td>\n",
       "      <td>378384.89</td>\n",
       "      <td>C553587228</td>\n",
       "      <td>167.00</td>\n",
       "      <td>0.00</td>\n",
       "      <td>C1781090157</td>\n",
       "      <td>4740825.47</td>\n",
       "      <td>5873978.21</td>\n",
       "      <td>0</td>\n",
       "      <td>0</td>\n",
       "    </tr>\n",
       "    <tr>\n",
       "      <th>102731</th>\n",
       "      <td>10</td>\n",
       "      <td>PAYMENT</td>\n",
       "      <td>25291.34</td>\n",
       "      <td>C259892811</td>\n",
       "      <td>38362.72</td>\n",
       "      <td>13071.39</td>\n",
       "      <td>M1723909173</td>\n",
       "      <td>0.00</td>\n",
       "      <td>0.00</td>\n",
       "      <td>0</td>\n",
       "      <td>0</td>\n",
       "    </tr>\n",
       "    <tr>\n",
       "      <th>102732</th>\n",
       "      <td>10</td>\n",
       "      <td>CASH_OUT</td>\n",
       "      <td>186418.07</td>\n",
       "      <td>C127592737</td>\n",
       "      <td>13071.39</td>\n",
       "      <td>0.00</td>\n",
       "      <td>C364592569</td>\n",
       "      <td>521280.03</td>\n",
       "      <td>345930.37</td>\n",
       "      <td>0</td>\n",
       "      <td>0</td>\n",
       "    </tr>\n",
       "    <tr>\n",
       "      <th>102733</th>\n",
       "      <td>10</td>\n",
       "      <td>CASH_OUT</td>\n",
       "      <td>606095.77</td>\n",
       "      <td>C1596814396</td>\n",
       "      <td>0.00</td>\n",
       "      <td>0.00</td>\n",
       "      <td>C1730312920</td>\n",
       "      <td>1028211.24</td>\n",
       "      <td>1819214.16</td>\n",
       "      <td>0</td>\n",
       "      <td>0</td>\n",
       "    </tr>\n",
       "    <tr>\n",
       "      <th>102734</th>\n",
       "      <td>10</td>\n",
       "      <td>CASH_OUT</td>\n",
       "      <td>113435.56</td>\n",
       "      <td>C1031855724</td>\n",
       "      <td>0.00</td>\n",
       "      <td>0.00</td>\n",
       "      <td>C2036376635</td>\n",
       "      <td>132059.00</td>\n",
       "      <td>564091.26</td>\n",
       "      <td>0</td>\n",
       "      <td>0</td>\n",
       "    </tr>\n",
       "  </tbody>\n",
       "</table>\n",
       "<p>102735 rows × 11 columns</p>\n",
       "</div>"
      ],
      "text/plain": [
       "        step      type     amount     nameOrig  oldbalanceOrg  newbalanceOrig  \\\n",
       "0          1   PAYMENT    9839.64  C1231006815      170136.00       160296.36   \n",
       "1          1   PAYMENT    1864.28  C1666544295       21249.00        19384.72   \n",
       "2          1  TRANSFER     181.00  C1305486145         181.00            0.00   \n",
       "3          1  CASH_OUT     181.00   C840083671         181.00            0.00   \n",
       "4          1   PAYMENT   11668.14  C2048537720       41554.00        29885.86   \n",
       "...      ...       ...        ...          ...            ...             ...   \n",
       "102730    10  CASH_OUT  378384.89   C553587228         167.00            0.00   \n",
       "102731    10   PAYMENT   25291.34   C259892811       38362.72        13071.39   \n",
       "102732    10  CASH_OUT  186418.07   C127592737       13071.39            0.00   \n",
       "102733    10  CASH_OUT  606095.77  C1596814396           0.00            0.00   \n",
       "102734    10  CASH_OUT  113435.56  C1031855724           0.00            0.00   \n",
       "\n",
       "           nameDest  oldbalanceDest  newbalanceDest  isFraud  isFlaggedFraud  \n",
       "0       M1979787155            0.00            0.00        0               0  \n",
       "1       M2044282225            0.00            0.00        0               0  \n",
       "2        C553264065            0.00            0.00        1               0  \n",
       "3         C38997010        21182.00            0.00        1               0  \n",
       "4       M1230701703            0.00            0.00        0               0  \n",
       "...             ...             ...             ...      ...             ...  \n",
       "102730  C1781090157      4740825.47      5873978.21        0               0  \n",
       "102731  M1723909173            0.00            0.00        0               0  \n",
       "102732   C364592569       521280.03       345930.37        0               0  \n",
       "102733  C1730312920      1028211.24      1819214.16        0               0  \n",
       "102734  C2036376635       132059.00       564091.26        0               0  \n",
       "\n",
       "[102735 rows x 11 columns]"
      ]
     },
     "execution_count": 21,
     "metadata": {},
     "output_type": "execute_result"
    }
   ],
   "source": [
    "df"
   ]
  },
  {
   "cell_type": "code",
   "execution_count": 22,
   "metadata": {
    "execution": {
     "iopub.execute_input": "2024-12-14T19:55:39.894204Z",
     "iopub.status.busy": "2024-12-14T19:55:39.893684Z",
     "iopub.status.idle": "2024-12-14T19:55:40.040920Z",
     "shell.execute_reply": "2024-12-14T19:55:40.039817Z",
     "shell.execute_reply.started": "2024-12-14T19:55:39.894151Z"
    },
    "trusted": true
   },
   "outputs": [
    {
     "name": "stderr",
     "output_type": "stream",
     "text": [
      "/tmp/ipykernel_24/3691033298.py:1: FutureWarning:\n",
      "\n",
      "Downcasting behavior in `replace` is deprecated and will be removed in a future version. To retain the old behavior, explicitly call `result.infer_objects(copy=False)`. To opt-in to the future behavior, set `pd.set_option('future.no_silent_downcasting', True)`\n",
      "\n"
     ]
    }
   ],
   "source": [
    "df.replace(to_replace=['PAYMENT', 'TRANSFER', 'CASH_OUT', 'DEBIT', 'CASH_IN'],value=[2,4,1,5,3],inplace=True)"
   ]
  },
  {
   "cell_type": "code",
   "execution_count": 23,
   "metadata": {
    "execution": {
     "iopub.execute_input": "2024-12-14T19:55:43.905682Z",
     "iopub.status.busy": "2024-12-14T19:55:43.905252Z",
     "iopub.status.idle": "2024-12-14T19:55:43.923827Z",
     "shell.execute_reply": "2024-12-14T19:55:43.922754Z",
     "shell.execute_reply.started": "2024-12-14T19:55:43.905647Z"
    },
    "trusted": true
   },
   "outputs": [
    {
     "data": {
      "text/html": [
       "<div>\n",
       "<style scoped>\n",
       "    .dataframe tbody tr th:only-of-type {\n",
       "        vertical-align: middle;\n",
       "    }\n",
       "\n",
       "    .dataframe tbody tr th {\n",
       "        vertical-align: top;\n",
       "    }\n",
       "\n",
       "    .dataframe thead th {\n",
       "        text-align: right;\n",
       "    }\n",
       "</style>\n",
       "<table border=\"1\" class=\"dataframe\">\n",
       "  <thead>\n",
       "    <tr style=\"text-align: right;\">\n",
       "      <th></th>\n",
       "      <th>step</th>\n",
       "      <th>type</th>\n",
       "      <th>amount</th>\n",
       "      <th>nameOrig</th>\n",
       "      <th>oldbalanceOrg</th>\n",
       "      <th>newbalanceOrig</th>\n",
       "      <th>nameDest</th>\n",
       "      <th>oldbalanceDest</th>\n",
       "      <th>newbalanceDest</th>\n",
       "      <th>isFraud</th>\n",
       "      <th>isFlaggedFraud</th>\n",
       "    </tr>\n",
       "  </thead>\n",
       "  <tbody>\n",
       "    <tr>\n",
       "      <th>0</th>\n",
       "      <td>1</td>\n",
       "      <td>2</td>\n",
       "      <td>9839.64</td>\n",
       "      <td>C1231006815</td>\n",
       "      <td>170136.00</td>\n",
       "      <td>160296.36</td>\n",
       "      <td>M1979787155</td>\n",
       "      <td>0.00</td>\n",
       "      <td>0.00</td>\n",
       "      <td>0</td>\n",
       "      <td>0</td>\n",
       "    </tr>\n",
       "    <tr>\n",
       "      <th>1</th>\n",
       "      <td>1</td>\n",
       "      <td>2</td>\n",
       "      <td>1864.28</td>\n",
       "      <td>C1666544295</td>\n",
       "      <td>21249.00</td>\n",
       "      <td>19384.72</td>\n",
       "      <td>M2044282225</td>\n",
       "      <td>0.00</td>\n",
       "      <td>0.00</td>\n",
       "      <td>0</td>\n",
       "      <td>0</td>\n",
       "    </tr>\n",
       "    <tr>\n",
       "      <th>2</th>\n",
       "      <td>1</td>\n",
       "      <td>4</td>\n",
       "      <td>181.00</td>\n",
       "      <td>C1305486145</td>\n",
       "      <td>181.00</td>\n",
       "      <td>0.00</td>\n",
       "      <td>C553264065</td>\n",
       "      <td>0.00</td>\n",
       "      <td>0.00</td>\n",
       "      <td>1</td>\n",
       "      <td>0</td>\n",
       "    </tr>\n",
       "    <tr>\n",
       "      <th>3</th>\n",
       "      <td>1</td>\n",
       "      <td>1</td>\n",
       "      <td>181.00</td>\n",
       "      <td>C840083671</td>\n",
       "      <td>181.00</td>\n",
       "      <td>0.00</td>\n",
       "      <td>C38997010</td>\n",
       "      <td>21182.00</td>\n",
       "      <td>0.00</td>\n",
       "      <td>1</td>\n",
       "      <td>0</td>\n",
       "    </tr>\n",
       "    <tr>\n",
       "      <th>4</th>\n",
       "      <td>1</td>\n",
       "      <td>2</td>\n",
       "      <td>11668.14</td>\n",
       "      <td>C2048537720</td>\n",
       "      <td>41554.00</td>\n",
       "      <td>29885.86</td>\n",
       "      <td>M1230701703</td>\n",
       "      <td>0.00</td>\n",
       "      <td>0.00</td>\n",
       "      <td>0</td>\n",
       "      <td>0</td>\n",
       "    </tr>\n",
       "    <tr>\n",
       "      <th>...</th>\n",
       "      <td>...</td>\n",
       "      <td>...</td>\n",
       "      <td>...</td>\n",
       "      <td>...</td>\n",
       "      <td>...</td>\n",
       "      <td>...</td>\n",
       "      <td>...</td>\n",
       "      <td>...</td>\n",
       "      <td>...</td>\n",
       "      <td>...</td>\n",
       "      <td>...</td>\n",
       "    </tr>\n",
       "    <tr>\n",
       "      <th>102730</th>\n",
       "      <td>10</td>\n",
       "      <td>1</td>\n",
       "      <td>378384.89</td>\n",
       "      <td>C553587228</td>\n",
       "      <td>167.00</td>\n",
       "      <td>0.00</td>\n",
       "      <td>C1781090157</td>\n",
       "      <td>4740825.47</td>\n",
       "      <td>5873978.21</td>\n",
       "      <td>0</td>\n",
       "      <td>0</td>\n",
       "    </tr>\n",
       "    <tr>\n",
       "      <th>102731</th>\n",
       "      <td>10</td>\n",
       "      <td>2</td>\n",
       "      <td>25291.34</td>\n",
       "      <td>C259892811</td>\n",
       "      <td>38362.72</td>\n",
       "      <td>13071.39</td>\n",
       "      <td>M1723909173</td>\n",
       "      <td>0.00</td>\n",
       "      <td>0.00</td>\n",
       "      <td>0</td>\n",
       "      <td>0</td>\n",
       "    </tr>\n",
       "    <tr>\n",
       "      <th>102732</th>\n",
       "      <td>10</td>\n",
       "      <td>1</td>\n",
       "      <td>186418.07</td>\n",
       "      <td>C127592737</td>\n",
       "      <td>13071.39</td>\n",
       "      <td>0.00</td>\n",
       "      <td>C364592569</td>\n",
       "      <td>521280.03</td>\n",
       "      <td>345930.37</td>\n",
       "      <td>0</td>\n",
       "      <td>0</td>\n",
       "    </tr>\n",
       "    <tr>\n",
       "      <th>102733</th>\n",
       "      <td>10</td>\n",
       "      <td>1</td>\n",
       "      <td>606095.77</td>\n",
       "      <td>C1596814396</td>\n",
       "      <td>0.00</td>\n",
       "      <td>0.00</td>\n",
       "      <td>C1730312920</td>\n",
       "      <td>1028211.24</td>\n",
       "      <td>1819214.16</td>\n",
       "      <td>0</td>\n",
       "      <td>0</td>\n",
       "    </tr>\n",
       "    <tr>\n",
       "      <th>102734</th>\n",
       "      <td>10</td>\n",
       "      <td>1</td>\n",
       "      <td>113435.56</td>\n",
       "      <td>C1031855724</td>\n",
       "      <td>0.00</td>\n",
       "      <td>0.00</td>\n",
       "      <td>C2036376635</td>\n",
       "      <td>132059.00</td>\n",
       "      <td>564091.26</td>\n",
       "      <td>0</td>\n",
       "      <td>0</td>\n",
       "    </tr>\n",
       "  </tbody>\n",
       "</table>\n",
       "<p>102735 rows × 11 columns</p>\n",
       "</div>"
      ],
      "text/plain": [
       "        step  type     amount     nameOrig  oldbalanceOrg  newbalanceOrig  \\\n",
       "0          1     2    9839.64  C1231006815      170136.00       160296.36   \n",
       "1          1     2    1864.28  C1666544295       21249.00        19384.72   \n",
       "2          1     4     181.00  C1305486145         181.00            0.00   \n",
       "3          1     1     181.00   C840083671         181.00            0.00   \n",
       "4          1     2   11668.14  C2048537720       41554.00        29885.86   \n",
       "...      ...   ...        ...          ...            ...             ...   \n",
       "102730    10     1  378384.89   C553587228         167.00            0.00   \n",
       "102731    10     2   25291.34   C259892811       38362.72        13071.39   \n",
       "102732    10     1  186418.07   C127592737       13071.39            0.00   \n",
       "102733    10     1  606095.77  C1596814396           0.00            0.00   \n",
       "102734    10     1  113435.56  C1031855724           0.00            0.00   \n",
       "\n",
       "           nameDest  oldbalanceDest  newbalanceDest  isFraud  isFlaggedFraud  \n",
       "0       M1979787155            0.00            0.00        0               0  \n",
       "1       M2044282225            0.00            0.00        0               0  \n",
       "2        C553264065            0.00            0.00        1               0  \n",
       "3         C38997010        21182.00            0.00        1               0  \n",
       "4       M1230701703            0.00            0.00        0               0  \n",
       "...             ...             ...             ...      ...             ...  \n",
       "102730  C1781090157      4740825.47      5873978.21        0               0  \n",
       "102731  M1723909173            0.00            0.00        0               0  \n",
       "102732   C364592569       521280.03       345930.37        0               0  \n",
       "102733  C1730312920      1028211.24      1819214.16        0               0  \n",
       "102734  C2036376635       132059.00       564091.26        0               0  \n",
       "\n",
       "[102735 rows x 11 columns]"
      ]
     },
     "execution_count": 23,
     "metadata": {},
     "output_type": "execute_result"
    }
   ],
   "source": [
    "df"
   ]
  },
  {
   "cell_type": "code",
   "execution_count": 24,
   "metadata": {
    "execution": {
     "iopub.execute_input": "2024-12-14T19:55:48.015300Z",
     "iopub.status.busy": "2024-12-14T19:55:48.014876Z",
     "iopub.status.idle": "2024-12-14T19:55:48.032722Z",
     "shell.execute_reply": "2024-12-14T19:55:48.031349Z",
     "shell.execute_reply.started": "2024-12-14T19:55:48.015247Z"
    },
    "trusted": true
   },
   "outputs": [
    {
     "name": "stdout",
     "output_type": "stream",
     "text": [
      "\n",
      "Modified DataFrame:\n",
      "        step  type     amount     nameOrig  oldbalanceOrg  newbalanceOrig  \\\n",
      "0          1     2    9839.64  C1231006815      170136.00       160296.36   \n",
      "1          1     2    1864.28  C1666544295       21249.00        19384.72   \n",
      "2          1     4     181.00  C1305486145         181.00            0.00   \n",
      "3          1     1     181.00   C840083671         181.00            0.00   \n",
      "4          1     2   11668.14  C2048537720       41554.00        29885.86   \n",
      "...      ...   ...        ...          ...            ...             ...   \n",
      "102730    10     1  378384.89   C553587228         167.00            0.00   \n",
      "102731    10     2   25291.34   C259892811       38362.72        13071.39   \n",
      "102732    10     1  186418.07   C127592737       13071.39            0.00   \n",
      "102733    10     1  606095.77  C1596814396           0.00            0.00   \n",
      "102734    10     1  113435.56  C1031855724           0.00            0.00   \n",
      "\n",
      "           nameDest  oldbalanceDest  newbalanceDest   isFraud  isFlaggedFraud  \n",
      "0       M1979787155            0.00            0.00  No fraud               0  \n",
      "1       M2044282225            0.00            0.00  No fraud               0  \n",
      "2        C553264065            0.00            0.00     fraud               0  \n",
      "3         C38997010        21182.00            0.00     fraud               0  \n",
      "4       M1230701703            0.00            0.00  No fraud               0  \n",
      "...             ...             ...             ...       ...             ...  \n",
      "102730  C1781090157      4740825.47      5873978.21  No fraud               0  \n",
      "102731  M1723909173            0.00            0.00  No fraud               0  \n",
      "102732   C364592569       521280.03       345930.37  No fraud               0  \n",
      "102733  C1730312920      1028211.24      1819214.16  No fraud               0  \n",
      "102734  C2036376635       132059.00       564091.26  No fraud               0  \n",
      "\n",
      "[102735 rows x 11 columns]\n"
     ]
    }
   ],
   "source": [
    "\n",
    "# Map the values\n",
    "df['isFraud'] = df['isFraud'].map({0: 'No fraud', 1: 'fraud'})\n",
    "\n",
    "# Display the modified DataFrame\n",
    "print(\"\\nModified DataFrame:\")\n",
    "print(df)"
   ]
  },
  {
   "cell_type": "code",
   "execution_count": 25,
   "metadata": {
    "execution": {
     "iopub.execute_input": "2024-12-14T19:55:51.922789Z",
     "iopub.status.busy": "2024-12-14T19:55:51.922422Z",
     "iopub.status.idle": "2024-12-14T19:55:51.929451Z",
     "shell.execute_reply": "2024-12-14T19:55:51.928326Z",
     "shell.execute_reply.started": "2024-12-14T19:55:51.922759Z"
    },
    "trusted": true
   },
   "outputs": [],
   "source": [
    "x=df[['type','amount','oldbalanceOrg','newbalanceOrig']]"
   ]
  },
  {
   "cell_type": "code",
   "execution_count": 26,
   "metadata": {
    "execution": {
     "iopub.execute_input": "2024-12-14T19:55:55.025643Z",
     "iopub.status.busy": "2024-12-14T19:55:55.025243Z",
     "iopub.status.idle": "2024-12-14T19:55:55.030742Z",
     "shell.execute_reply": "2024-12-14T19:55:55.029585Z",
     "shell.execute_reply.started": "2024-12-14T19:55:55.025608Z"
    },
    "trusted": true
   },
   "outputs": [],
   "source": [
    "y=df.iloc[:,-2]"
   ]
  },
  {
   "cell_type": "code",
   "execution_count": 27,
   "metadata": {
    "execution": {
     "iopub.execute_input": "2024-12-14T19:55:57.941636Z",
     "iopub.status.busy": "2024-12-14T19:55:57.941222Z",
     "iopub.status.idle": "2024-12-14T19:55:57.951286Z",
     "shell.execute_reply": "2024-12-14T19:55:57.949811Z",
     "shell.execute_reply.started": "2024-12-14T19:55:57.941601Z"
    },
    "trusted": true
   },
   "outputs": [
    {
     "data": {
      "text/plain": [
       "0         No fraud\n",
       "1         No fraud\n",
       "2            fraud\n",
       "3            fraud\n",
       "4         No fraud\n",
       "            ...   \n",
       "102730    No fraud\n",
       "102731    No fraud\n",
       "102732    No fraud\n",
       "102733    No fraud\n",
       "102734    No fraud\n",
       "Name: isFraud, Length: 102735, dtype: object"
      ]
     },
     "execution_count": 27,
     "metadata": {},
     "output_type": "execute_result"
    }
   ],
   "source": [
    "y"
   ]
  },
  {
   "cell_type": "code",
   "execution_count": 70,
   "metadata": {
    "execution": {
     "iopub.execute_input": "2024-12-14T20:08:09.836026Z",
     "iopub.status.busy": "2024-12-14T20:08:09.835073Z",
     "iopub.status.idle": "2024-12-14T20:08:10.295472Z",
     "shell.execute_reply": "2024-12-14T20:08:10.294410Z",
     "shell.execute_reply.started": "2024-12-14T20:08:09.835984Z"
    },
    "trusted": true
   },
   "outputs": [
    {
     "name": "stdout",
     "output_type": "stream",
     "text": [
      "Non-numeric columns: Index(['nameOrig', 'nameDest', 'isFraud'], dtype='object')\n"
     ]
    },
    {
     "data": {
      "image/png": "[encoded data removed]",
      "text/plain": [
       "<Figure size 1200x900 with 2 Axes>"
      ]
     },
     "metadata": {},
     "output_type": "display_data"
    }
   ],
   "source": [
    "# Identify non-numeric columns\n",
    "non_numeric_cols = df.select_dtypes(include=['object']).columns\n",
    "print(\"Non-numeric columns:\", non_numeric_cols)\n",
    "\n",
    "# Option A: Drop non-numeric columns\n",
    "data_numeric = df.drop(non_numeric_cols, axis=1)\n",
    "\n",
    "# Option B: Convert categorical columns to numeric using one-hot encoding\n",
    "# data_encoded = pd.get_dummies(data, drop_first=True)\n",
    "\n",
    "# Compute the correlation matrix\n",
    "corrmat = data_numeric.corr()  # or use data_encoded.corr() if you encoded\n",
    "plt.figure(figsize=(12, 9))\n",
    "sns.heatmap(corrmat, vmax=.8, square=True)\n",
    "plt.title(\"Correlation Matrix\")\n",
    "plt.show()"
   ]
  },
  {
   "cell_type": "code",
   "execution_count": 34,
   "metadata": {
    "execution": {
     "iopub.execute_input": "2024-12-14T20:01:42.009394Z",
     "iopub.status.busy": "2024-12-14T20:01:42.008988Z",
     "iopub.status.idle": "2024-12-14T20:01:42.071597Z",
     "shell.execute_reply": "2024-12-14T20:01:42.070544Z",
     "shell.execute_reply.started": "2024-12-14T20:01:42.009358Z"
    },
    "trusted": true
   },
   "outputs": [],
   "source": [
    "# Dividing the X and the Y from the dataset\n",
    "X = df.drop(['amount'], axis=1)\n",
    "Y = df[\"amount\"]\n",
    "xData = X.values\n",
    "yData = Y.values"
   ]
  },
  {
   "cell_type": "code",
   "execution_count": 42,
   "metadata": {
    "execution": {
     "iopub.execute_input": "2024-12-14T20:04:22.840123Z",
     "iopub.status.busy": "2024-12-14T20:04:22.839723Z",
     "iopub.status.idle": "2024-12-14T20:04:22.846411Z",
     "shell.execute_reply": "2024-12-14T20:04:22.844937Z",
     "shell.execute_reply.started": "2024-12-14T20:04:22.840086Z"
    },
    "trusted": true
   },
   "outputs": [],
   "source": [
    "from sklearn.tree import DecisionTreeClassifier\n",
    "from sklearn.linear_model import LogisticRegression\n",
    "from sklearn.metrics import accuracy_score\n",
    "from sklearn.metrics import precision_score,recall_score,f1_score"
   ]
  },
  {
   "cell_type": "code",
   "execution_count": 43,
   "metadata": {
    "execution": {
     "iopub.execute_input": "2024-12-14T20:04:26.963558Z",
     "iopub.status.busy": "2024-12-14T20:04:26.963154Z",
     "iopub.status.idle": "2024-12-14T20:04:26.968858Z",
     "shell.execute_reply": "2024-12-14T20:04:26.967356Z",
     "shell.execute_reply.started": "2024-12-14T20:04:26.963515Z"
    },
    "trusted": true
   },
   "outputs": [],
   "source": [
    "model=DecisionTreeClassifier()"
   ]
  },
  {
   "cell_type": "code",
   "execution_count": 44,
   "metadata": {
    "execution": {
     "iopub.execute_input": "2024-12-14T20:04:30.499642Z",
     "iopub.status.busy": "2024-12-14T20:04:30.499206Z",
     "iopub.status.idle": "2024-12-14T20:04:30.517067Z",
     "shell.execute_reply": "2024-12-14T20:04:30.515647Z",
     "shell.execute_reply.started": "2024-12-14T20:04:30.499606Z"
    },
    "trusted": true
   },
   "outputs": [],
   "source": [
    "xtrain,xtest,ytrain,ytest=train_test_split(x,y,test_size=0.2,random_state=42)"
   ]
  },
  {
   "cell_type": "code",
   "execution_count": 45,
   "metadata": {
    "execution": {
     "iopub.execute_input": "2024-12-14T20:04:33.702255Z",
     "iopub.status.busy": "2024-12-14T20:04:33.701379Z",
     "iopub.status.idle": "2024-12-14T20:04:34.034866Z",
     "shell.execute_reply": "2024-12-14T20:04:34.033643Z",
     "shell.execute_reply.started": "2024-12-14T20:04:33.702212Z"
    },
    "trusted": true
   },
   "outputs": [
    {
     "data": {
      "text/html": [
       "<style>#sk-container-id-2 {color: black;background-color: white;}#sk-container-id-2 pre{padding: 0;}#sk-container-id-2 div.sk-toggleable {background-color: white;}#sk-container-id-2 label.sk-toggleable__label {cursor: pointer;display: block;width: 100%;margin-bottom: 0;padding: 0.3em;box-sizing: border-box;text-align: center;}#sk-container-id-2 label.sk-toggleable__label-arrow:before {content: \"▸\";float: left;margin-right: 0.25em;color: #696969;}#sk-container-id-2 label.sk-toggleable__label-arrow:hover:before {color: black;}#sk-container-id-2 div.sk-estimator:hover label.sk-toggleable__label-arrow:before {color: black;}#sk-container-id-2 div.sk-toggleable__content {max-height: 0;max-width: 0;overflow: hidden;text-align: left;background-color: #f0f8ff;}#sk-container-id-2 div.sk-toggleable__content pre {margin: 0.2em;color: black;border-radius: 0.25em;background-color: #f0f8ff;}#sk-container-id-2 input.sk-toggleable__control:checked~div.sk-toggleable__content {max-height: 200px;max-width: 100%;overflow: auto;}#sk-container-id-2 input.sk-toggleable__control:checked~label.sk-toggleable__label-arrow:before {content: \"▾\";}#sk-container-id-2 div.sk-estimator input.sk-toggleable__control:checked~label.sk-toggleable__label {background-color: #d4ebff;}#sk-container-id-2 div.sk-label input.sk-toggleable__control:checked~label.sk-toggleable__label {background-color: #d4ebff;}#sk-container-id-2 input.sk-hidden--visually {border: 0;clip: rect(1px 1px 1px 1px);clip: rect(1px, 1px, 1px, 1px);height: 1px;margin: -1px;overflow: hidden;padding: 0;position: absolute;width: 1px;}#sk-container-id-2 div.sk-estimator {font-family: monospace;background-color: #f0f8ff;border: 1px dotted black;border-radius: 0.25em;box-sizing: border-box;margin-bottom: 0.5em;}#sk-container-id-2 div.sk-estimator:hover {background-color: #d4ebff;}#sk-container-id-2 div.sk-parallel-item::after {content: \"\";width: 100%;border-bottom: 1px solid gray;flex-grow: 1;}#sk-container-id-2 div.sk-label:hover label.sk-toggleable__label {background-color: #d4ebff;}#sk-container-id-2 div.sk-serial::before {content: \"\";position: absolute;border-left: 1px solid gray;box-sizing: border-box;top: 0;bottom: 0;left: 50%;z-index: 0;}#sk-container-id-2 div.sk-serial {display: flex;flex-direction: column;align-items: center;background-color: white;padding-right: 0.2em;padding-left: 0.2em;position: relative;}#sk-container-id-2 div.sk-item {position: relative;z-index: 1;}#sk-container-id-2 div.sk-parallel {display: flex;align-items: stretch;justify-content: center;background-color: white;position: relative;}#sk-container-id-2 div.sk-item::before, #sk-container-id-2 div.sk-parallel-item::before {content: \"\";position: absolute;border-left: 1px solid gray;box-sizing: border-box;top: 0;bottom: 0;left: 50%;z-index: -1;}#sk-container-id-2 div.sk-parallel-item {display: flex;flex-direction: column;z-index: 1;position: relative;background-color: white;}#sk-container-id-2 div.sk-parallel-item:first-child::after {align-self: flex-end;width: 50%;}#sk-container-id-2 div.sk-parallel-item:last-child::after {align-self: flex-start;width: 50%;}#sk-container-id-2 div.sk-parallel-item:only-child::after {width: 0;}#sk-container-id-2 div.sk-dashed-wrapped {border: 1px dashed gray;margin: 0 0.4em 0.5em 0.4em;box-sizing: border-box;padding-bottom: 0.4em;background-color: white;}#sk-container-id-2 div.sk-label label {font-family: monospace;font-weight: bold;display: inline-block;line-height: 1.2em;}#sk-container-id-2 div.sk-label-container {text-align: center;}#sk-container-id-2 div.sk-container {/* jupyter's `normalize.less` sets `[hidden] { display: none; }` but bootstrap.min.css set `[hidden] { display: none !important; }` so we also need the `!important` here to be able to override the default hidden behavior on the sphinx rendered scikit-learn.org. See: https://github.com/scikit-learn/scikit-learn/issues/21755 */display: inline-block !important;position: relative;}#sk-container-id-2 div.sk-text-repr-fallback {display: none;}</style><div id=\"sk-container-id-2\" class=\"sk-top-container\"><div class=\"sk-text-repr-fallback\"><pre>DecisionTreeClassifier()</pre><b>In a Jupyter environment, please rerun this cell to show the HTML representation or trust the notebook. <br />On GitHub, the HTML representation is unable to render, please try loading this page with nbviewer.org.</b></div><div class=\"sk-container\" hidden><div class=\"sk-item\"><div class=\"sk-estimator sk-toggleable\"><input class=\"sk-toggleable__control sk-hidden--visually\" id=\"sk-estimator-id-2\" type=\"checkbox\" checked><label for=\"sk-estimator-id-2\" class=\"sk-toggleable__label sk-toggleable__label-arrow\">DecisionTreeClassifier</label><div class=\"sk-toggleable__content\"><pre>DecisionTreeClassifier()</pre></div></div></div></div></div>"
      ],
      "text/plain": [
       "DecisionTreeClassifier()"
      ]
     },
     "execution_count": 45,
     "metadata": {},
     "output_type": "execute_result"
    }
   ],
   "source": [
    "model.fit(xtrain,ytrain)"
   ]
  },
  {
   "cell_type": "code",
   "execution_count": 46,
   "metadata": {
    "execution": {
     "iopub.execute_input": "2024-12-14T20:04:37.422411Z",
     "iopub.status.busy": "2024-12-14T20:04:37.421997Z",
     "iopub.status.idle": "2024-12-14T20:04:37.476525Z",
     "shell.execute_reply": "2024-12-14T20:04:37.475448Z",
     "shell.execute_reply.started": "2024-12-14T20:04:37.422377Z"
    },
    "trusted": true
   },
   "outputs": [
    {
     "data": {
      "text/plain": [
       "99.91239597021463"
      ]
     },
     "execution_count": 46,
     "metadata": {},
     "output_type": "execute_result"
    }
   ],
   "source": [
    "model.score(xtest,ytest) *100"
   ]
  },
  {
   "cell_type": "code",
   "execution_count": 47,
   "metadata": {
    "execution": {
     "iopub.execute_input": "2024-12-14T20:04:40.572926Z",
     "iopub.status.busy": "2024-12-14T20:04:40.572540Z",
     "iopub.status.idle": "2024-12-14T20:04:40.581927Z",
     "shell.execute_reply": "2024-12-14T20:04:40.580709Z",
     "shell.execute_reply.started": "2024-12-14T20:04:40.572891Z"
    },
    "trusted": true
   },
   "outputs": [],
   "source": [
    "y_pred1=model.predict(xtest)"
   ]
  },
  {
   "cell_type": "code",
   "execution_count": 48,
   "metadata": {
    "execution": {
     "iopub.execute_input": "2024-12-14T20:04:44.653051Z",
     "iopub.status.busy": "2024-12-14T20:04:44.652674Z",
     "iopub.status.idle": "2024-12-14T20:04:44.706074Z",
     "shell.execute_reply": "2024-12-14T20:04:44.704963Z",
     "shell.execute_reply.started": "2024-12-14T20:04:44.653020Z"
    },
    "trusted": true
   },
   "outputs": [
    {
     "data": {
      "text/plain": [
       "0.9991239597021463"
      ]
     },
     "execution_count": 48,
     "metadata": {},
     "output_type": "execute_result"
    }
   ],
   "source": [
    "accuracy_score(ytest,y_pred1)"
   ]
  },
  {
   "cell_type": "code",
   "execution_count": 49,
   "metadata": {
    "execution": {
     "iopub.execute_input": "2024-12-14T20:04:48.369157Z",
     "iopub.status.busy": "2024-12-14T20:04:48.368735Z",
     "iopub.status.idle": "2024-12-14T20:04:48.560508Z",
     "shell.execute_reply": "2024-12-14T20:04:48.559449Z",
     "shell.execute_reply.started": "2024-12-14T20:04:48.369118Z"
    },
    "trusted": true
   },
   "outputs": [
    {
     "name": "stdout",
     "output_type": "stream",
     "text": [
      "Precision: 0.5882352941176471\n"
     ]
    }
   ],
   "source": [
    "# Assuming ytest and y_pred1 are your true and predicted labels\n",
    "precision = precision_score(ytest, y_pred1, pos_label='fraud')\n",
    "print(\"Precision:\", precision)"
   ]
  },
  {
   "cell_type": "code",
   "execution_count": 50,
   "metadata": {
    "execution": {
     "iopub.execute_input": "2024-12-14T20:04:51.925607Z",
     "iopub.status.busy": "2024-12-14T20:04:51.925163Z",
     "iopub.status.idle": "2024-12-14T20:04:52.116782Z",
     "shell.execute_reply": "2024-12-14T20:04:52.115363Z",
     "shell.execute_reply.started": "2024-12-14T20:04:51.925560Z"
    },
    "trusted": true
   },
   "outputs": [
    {
     "name": "stdout",
     "output_type": "stream",
     "text": [
      "Recall: 0.47619047619047616\n"
     ]
    }
   ],
   "source": [
    "# Assuming ytest and y_pred1 are your true and predicted labels\n",
    "recall = recall_score(ytest, y_pred1, pos_label='fraud')\n",
    "print(\"Recall:\", recall)"
   ]
  },
  {
   "cell_type": "code",
   "execution_count": 51,
   "metadata": {
    "execution": {
     "iopub.execute_input": "2024-12-14T20:04:55.734512Z",
     "iopub.status.busy": "2024-12-14T20:04:55.734120Z",
     "iopub.status.idle": "2024-12-14T20:04:55.923170Z",
     "shell.execute_reply": "2024-12-14T20:04:55.921937Z",
     "shell.execute_reply.started": "2024-12-14T20:04:55.734476Z"
    },
    "trusted": true
   },
   "outputs": [
    {
     "name": "stdout",
     "output_type": "stream",
     "text": [
      "F1 Score: 0.5263157894736842\n"
     ]
    }
   ],
   "source": [
    "# Assuming ytest and y_pred1 are your true and predicted labels\n",
    "# Use 'fraud' as the positive class label\n",
    "f1 = f1_score(ytest, y_pred1, pos_label='fraud')\n",
    "\n",
    "print(\"F1 Score:\", f1)"
   ]
  },
  {
   "cell_type": "code",
   "execution_count": 52,
   "metadata": {
    "execution": {
     "iopub.execute_input": "2024-12-14T20:04:59.263734Z",
     "iopub.status.busy": "2024-12-14T20:04:59.263357Z",
     "iopub.status.idle": "2024-12-14T20:04:59.279500Z",
     "shell.execute_reply": "2024-12-14T20:04:59.278244Z",
     "shell.execute_reply.started": "2024-12-14T20:04:59.263704Z"
    },
    "trusted": true
   },
   "outputs": [],
   "source": [
    "model=LogisticRegression()\n",
    "xtrain,xtest,ytrain,ytest=train_test_split(x,y,test_size=0.2,random_state=42)\n",
    "\n"
   ]
  },
  {
   "cell_type": "code",
   "execution_count": 53,
   "metadata": {
    "execution": {
     "iopub.execute_input": "2024-12-14T20:05:04.036531Z",
     "iopub.status.busy": "2024-12-14T20:05:04.036115Z",
     "iopub.status.idle": "2024-12-14T20:05:05.029239Z",
     "shell.execute_reply": "2024-12-14T20:05:05.026714Z",
     "shell.execute_reply.started": "2024-12-14T20:05:04.036494Z"
    },
    "trusted": true
   },
   "outputs": [
    {
     "data": {
      "text/html": [
       "<style>#sk-container-id-3 {color: black;background-color: white;}#sk-container-id-3 pre{padding: 0;}#sk-container-id-3 div.sk-toggleable {background-color: white;}#sk-container-id-3 label.sk-toggleable__label {cursor: pointer;display: block;width: 100%;margin-bottom: 0;padding: 0.3em;box-sizing: border-box;text-align: center;}#sk-container-id-3 label.sk-toggleable__label-arrow:before {content: \"▸\";float: left;margin-right: 0.25em;color: #696969;}#sk-container-id-3 label.sk-toggleable__label-arrow:hover:before {color: black;}#sk-container-id-3 div.sk-estimator:hover label.sk-toggleable__label-arrow:before {color: black;}#sk-container-id-3 div.sk-toggleable__content {max-height: 0;max-width: 0;overflow: hidden;text-align: left;background-color: #f0f8ff;}#sk-container-id-3 div.sk-toggleable__content pre {margin: 0.2em;color: black;border-radius: 0.25em;background-color: #f0f8ff;}#sk-container-id-3 input.sk-toggleable__control:checked~div.sk-toggleable__content {max-height: 200px;max-width: 100%;overflow: auto;}#sk-container-id-3 input.sk-toggleable__control:checked~label.sk-toggleable__label-arrow:before {content: \"▾\";}#sk-container-id-3 div.sk-estimator input.sk-toggleable__control:checked~label.sk-toggleable__label {background-color: #d4ebff;}#sk-container-id-3 div.sk-label input.sk-toggleable__control:checked~label.sk-toggleable__label {background-color: #d4ebff;}#sk-container-id-3 input.sk-hidden--visually {border: 0;clip: rect(1px 1px 1px 1px);clip: rect(1px, 1px, 1px, 1px);height: 1px;margin: -1px;overflow: hidden;padding: 0;position: absolute;width: 1px;}#sk-container-id-3 div.sk-estimator {font-family: monospace;background-color: #f0f8ff;border: 1px dotted black;border-radius: 0.25em;box-sizing: border-box;margin-bottom: 0.5em;}#sk-container-id-3 div.sk-estimator:hover {background-color: #d4ebff;}#sk-container-id-3 div.sk-parallel-item::after {content: \"\";width: 100%;border-bottom: 1px solid gray;flex-grow: 1;}#sk-container-id-3 div.sk-label:hover label.sk-toggleable__label {background-color: #d4ebff;}#sk-container-id-3 div.sk-serial::before {content: \"\";position: absolute;border-left: 1px solid gray;box-sizing: border-box;top: 0;bottom: 0;left: 50%;z-index: 0;}#sk-container-id-3 div.sk-serial {display: flex;flex-direction: column;align-items: center;background-color: white;padding-right: 0.2em;padding-left: 0.2em;position: relative;}#sk-container-id-3 div.sk-item {position: relative;z-index: 1;}#sk-container-id-3 div.sk-parallel {display: flex;align-items: stretch;justify-content: center;background-color: white;position: relative;}#sk-container-id-3 div.sk-item::before, #sk-container-id-3 div.sk-parallel-item::before {content: \"\";position: absolute;border-left: 1px solid gray;box-sizing: border-box;top: 0;bottom: 0;left: 50%;z-index: -1;}#sk-container-id-3 div.sk-parallel-item {display: flex;flex-direction: column;z-index: 1;position: relative;background-color: white;}#sk-container-id-3 div.sk-parallel-item:first-child::after {align-self: flex-end;width: 50%;}#sk-container-id-3 div.sk-parallel-item:last-child::after {align-self: flex-start;width: 50%;}#sk-container-id-3 div.sk-parallel-item:only-child::after {width: 0;}#sk-container-id-3 div.sk-dashed-wrapped {border: 1px dashed gray;margin: 0 0.4em 0.5em 0.4em;box-sizing: border-box;padding-bottom: 0.4em;background-color: white;}#sk-container-id-3 div.sk-label label {font-family: monospace;font-weight: bold;display: inline-block;line-height: 1.2em;}#sk-container-id-3 div.sk-label-container {text-align: center;}#sk-container-id-3 div.sk-container {/* jupyter's `normalize.less` sets `[hidden] { display: none; }` but bootstrap.min.css set `[hidden] { display: none !important; }` so we also need the `!important` here to be able to override the default hidden behavior on the sphinx rendered scikit-learn.org. See: https://github.com/scikit-learn/scikit-learn/issues/21755 */display: inline-block !important;position: relative;}#sk-container-id-3 div.sk-text-repr-fallback {display: none;}</style><div id=\"sk-container-id-3\" class=\"sk-top-container\"><div class=\"sk-text-repr-fallback\"><pre>LogisticRegression()</pre><b>In a Jupyter environment, please rerun this cell to show the HTML representation or trust the notebook. <br />On GitHub, the HTML representation is unable to render, please try loading this page with nbviewer.org.</b></div><div class=\"sk-container\" hidden><div class=\"sk-item\"><div class=\"sk-estimator sk-toggleable\"><input class=\"sk-toggleable__control sk-hidden--visually\" id=\"sk-estimator-id-3\" type=\"checkbox\" checked><label for=\"sk-estimator-id-3\" class=\"sk-toggleable__label sk-toggleable__label-arrow\">LogisticRegression</label><div class=\"sk-toggleable__content\"><pre>LogisticRegression()</pre></div></div></div></div></div>"
      ],
      "text/plain": [
       "LogisticRegression()"
      ]
     },
     "execution_count": 53,
     "metadata": {},
     "output_type": "execute_result"
    }
   ],
   "source": [
    "model.fit(xtrain,ytrain)"
   ]
  },
  {
   "cell_type": "code",
   "execution_count": 54,
   "metadata": {
    "execution": {
     "iopub.execute_input": "2024-12-14T20:05:08.854320Z",
     "iopub.status.busy": "2024-12-14T20:05:08.853920Z",
     "iopub.status.idle": "2024-12-14T20:05:08.865411Z",
     "shell.execute_reply": "2024-12-14T20:05:08.863561Z",
     "shell.execute_reply.started": "2024-12-14T20:05:08.854285Z"
    },
    "trusted": true
   },
   "outputs": [],
   "source": [
    "y_pred2=model.predict(xtest)"
   ]
  },
  {
   "cell_type": "code",
   "execution_count": 55,
   "metadata": {
    "execution": {
     "iopub.execute_input": "2024-12-14T20:05:19.368718Z",
     "iopub.status.busy": "2024-12-14T20:05:19.368334Z",
     "iopub.status.idle": "2024-12-14T20:05:19.420362Z",
     "shell.execute_reply": "2024-12-14T20:05:19.419153Z",
     "shell.execute_reply.started": "2024-12-14T20:05:19.368686Z"
    },
    "trusted": true
   },
   "outputs": [
    {
     "data": {
      "text/plain": [
       "0.9990266218912737"
      ]
     },
     "execution_count": 55,
     "metadata": {},
     "output_type": "execute_result"
    }
   ],
   "source": [
    "accuracy_score(ytest,y_pred2)"
   ]
  },
  {
   "cell_type": "code",
   "execution_count": 56,
   "metadata": {
    "execution": {
     "iopub.execute_input": "2024-12-14T20:05:22.930522Z",
     "iopub.status.busy": "2024-12-14T20:05:22.930120Z",
     "iopub.status.idle": "2024-12-14T20:05:23.120258Z",
     "shell.execute_reply": "2024-12-14T20:05:23.119170Z",
     "shell.execute_reply.started": "2024-12-14T20:05:22.930486Z"
    },
    "trusted": true
   },
   "outputs": [
    {
     "name": "stdout",
     "output_type": "stream",
     "text": [
      "Precision: 0.6666666666666666\n"
     ]
    }
   ],
   "source": [
    "\n",
    "# Assuming ytest and y_pred1 are your true and predicted labels\n",
    "precision = precision_score(ytest, y_pred2, pos_label='fraud')\n",
    "print(\"Precision:\", precision)"
   ]
  },
  {
   "cell_type": "code",
   "execution_count": 57,
   "metadata": {
    "execution": {
     "iopub.execute_input": "2024-12-14T20:05:27.206675Z",
     "iopub.status.busy": "2024-12-14T20:05:27.206238Z",
     "iopub.status.idle": "2024-12-14T20:05:27.400689Z",
     "shell.execute_reply": "2024-12-14T20:05:27.399290Z",
     "shell.execute_reply.started": "2024-12-14T20:05:27.206639Z"
    },
    "trusted": true
   },
   "outputs": [
    {
     "name": "stdout",
     "output_type": "stream",
     "text": [
      "Recall: 0.09523809523809523\n"
     ]
    }
   ],
   "source": [
    "\n",
    "\n",
    "# Assuming ytest and y_pred1 are your true and predicted labels\n",
    "recall = recall_score(ytest, y_pred2, pos_label='fraud')\n",
    "print(\"Recall:\", recall)"
   ]
  },
  {
   "cell_type": "code",
   "execution_count": 58,
   "metadata": {
    "execution": {
     "iopub.execute_input": "2024-12-14T20:05:30.849692Z",
     "iopub.status.busy": "2024-12-14T20:05:30.849232Z",
     "iopub.status.idle": "2024-12-14T20:05:31.039251Z",
     "shell.execute_reply": "2024-12-14T20:05:31.038048Z",
     "shell.execute_reply.started": "2024-12-14T20:05:30.849620Z"
    },
    "trusted": true
   },
   "outputs": [
    {
     "name": "stdout",
     "output_type": "stream",
     "text": [
      "F1 Score: 0.16666666666666666\n"
     ]
    }
   ],
   "source": [
    "\n",
    "\n",
    "# Assuming ytest and y_pred1 are your true and predicted labels\n",
    "# Use 'fraud' as the positive class label\n",
    "f1 = f1_score(ytest, y_pred2, pos_label='fraud')\n",
    "\n",
    "print(\"F1 Score:\", f1)"
   ]
  },
  {
   "cell_type": "code",
   "execution_count": 59,
   "metadata": {
    "execution": {
     "iopub.execute_input": "2024-12-14T20:05:34.967528Z",
     "iopub.status.busy": "2024-12-14T20:05:34.967117Z",
     "iopub.status.idle": "2024-12-14T20:05:34.976514Z",
     "shell.execute_reply": "2024-12-14T20:05:34.975119Z",
     "shell.execute_reply.started": "2024-12-14T20:05:34.967493Z"
    },
    "trusted": true
   },
   "outputs": [
    {
     "name": "stderr",
     "output_type": "stream",
     "text": [
      "/opt/conda/lib/python3.10/site-packages/sklearn/base.py:439: UserWarning:\n",
      "\n",
      "X does not have valid feature names, but LogisticRegression was fitted with feature names\n",
      "\n"
     ]
    },
    {
     "data": {
      "text/plain": [
       "array(['No fraud'], dtype=object)"
      ]
     },
     "execution_count": 59,
     "metadata": {},
     "output_type": "execute_result"
    }
   ],
   "source": [
    "model.predict([[2,9839,170136,160296]])"
   ]
  },
  {
   "cell_type": "code",
   "execution_count": 60,
   "metadata": {
    "execution": {
     "iopub.execute_input": "2024-12-14T20:05:38.517742Z",
     "iopub.status.busy": "2024-12-14T20:05:38.517260Z",
     "iopub.status.idle": "2024-12-14T20:05:38.532195Z",
     "shell.execute_reply": "2024-12-14T20:05:38.530987Z",
     "shell.execute_reply.started": "2024-12-14T20:05:38.517708Z"
    },
    "trusted": true
   },
   "outputs": [
    {
     "data": {
      "text/html": [
       "<div>\n",
       "<style scoped>\n",
       "    .dataframe tbody tr th:only-of-type {\n",
       "        vertical-align: middle;\n",
       "    }\n",
       "\n",
       "    .dataframe tbody tr th {\n",
       "        vertical-align: top;\n",
       "    }\n",
       "\n",
       "    .dataframe thead th {\n",
       "        text-align: right;\n",
       "    }\n",
       "</style>\n",
       "<table border=\"1\" class=\"dataframe\">\n",
       "  <thead>\n",
       "    <tr style=\"text-align: right;\">\n",
       "      <th></th>\n",
       "      <th>type</th>\n",
       "      <th>amount</th>\n",
       "      <th>oldbalanceOrg</th>\n",
       "      <th>newbalanceOrig</th>\n",
       "    </tr>\n",
       "  </thead>\n",
       "  <tbody>\n",
       "    <tr>\n",
       "      <th>0</th>\n",
       "      <td>2</td>\n",
       "      <td>9839.64</td>\n",
       "      <td>170136.00</td>\n",
       "      <td>160296.36</td>\n",
       "    </tr>\n",
       "    <tr>\n",
       "      <th>1</th>\n",
       "      <td>2</td>\n",
       "      <td>1864.28</td>\n",
       "      <td>21249.00</td>\n",
       "      <td>19384.72</td>\n",
       "    </tr>\n",
       "    <tr>\n",
       "      <th>2</th>\n",
       "      <td>4</td>\n",
       "      <td>181.00</td>\n",
       "      <td>181.00</td>\n",
       "      <td>0.00</td>\n",
       "    </tr>\n",
       "    <tr>\n",
       "      <th>3</th>\n",
       "      <td>1</td>\n",
       "      <td>181.00</td>\n",
       "      <td>181.00</td>\n",
       "      <td>0.00</td>\n",
       "    </tr>\n",
       "    <tr>\n",
       "      <th>4</th>\n",
       "      <td>2</td>\n",
       "      <td>11668.14</td>\n",
       "      <td>41554.00</td>\n",
       "      <td>29885.86</td>\n",
       "    </tr>\n",
       "    <tr>\n",
       "      <th>...</th>\n",
       "      <td>...</td>\n",
       "      <td>...</td>\n",
       "      <td>...</td>\n",
       "      <td>...</td>\n",
       "    </tr>\n",
       "    <tr>\n",
       "      <th>102730</th>\n",
       "      <td>1</td>\n",
       "      <td>378384.89</td>\n",
       "      <td>167.00</td>\n",
       "      <td>0.00</td>\n",
       "    </tr>\n",
       "    <tr>\n",
       "      <th>102731</th>\n",
       "      <td>2</td>\n",
       "      <td>25291.34</td>\n",
       "      <td>38362.72</td>\n",
       "      <td>13071.39</td>\n",
       "    </tr>\n",
       "    <tr>\n",
       "      <th>102732</th>\n",
       "      <td>1</td>\n",
       "      <td>186418.07</td>\n",
       "      <td>13071.39</td>\n",
       "      <td>0.00</td>\n",
       "    </tr>\n",
       "    <tr>\n",
       "      <th>102733</th>\n",
       "      <td>1</td>\n",
       "      <td>606095.77</td>\n",
       "      <td>0.00</td>\n",
       "      <td>0.00</td>\n",
       "    </tr>\n",
       "    <tr>\n",
       "      <th>102734</th>\n",
       "      <td>1</td>\n",
       "      <td>113435.56</td>\n",
       "      <td>0.00</td>\n",
       "      <td>0.00</td>\n",
       "    </tr>\n",
       "  </tbody>\n",
       "</table>\n",
       "<p>102735 rows × 4 columns</p>\n",
       "</div>"
      ],
      "text/plain": [
       "        type     amount  oldbalanceOrg  newbalanceOrig\n",
       "0          2    9839.64      170136.00       160296.36\n",
       "1          2    1864.28       21249.00        19384.72\n",
       "2          4     181.00         181.00            0.00\n",
       "3          1     181.00         181.00            0.00\n",
       "4          2   11668.14       41554.00        29885.86\n",
       "...      ...        ...            ...             ...\n",
       "102730     1  378384.89         167.00            0.00\n",
       "102731     2   25291.34       38362.72        13071.39\n",
       "102732     1  186418.07       13071.39            0.00\n",
       "102733     1  606095.77           0.00            0.00\n",
       "102734     1  113435.56           0.00            0.00\n",
       "\n",
       "[102735 rows x 4 columns]"
      ]
     },
     "execution_count": 60,
     "metadata": {},
     "output_type": "execute_result"
    }
   ],
   "source": [
    "x"
   ]
  },
  {
   "cell_type": "code",
   "execution_count": 61,
   "metadata": {
    "execution": {
     "iopub.execute_input": "2024-12-14T20:05:42.313149Z",
     "iopub.status.busy": "2024-12-14T20:05:42.312742Z",
     "iopub.status.idle": "2024-12-14T20:05:49.488460Z",
     "shell.execute_reply": "2024-12-14T20:05:49.487362Z",
     "shell.execute_reply.started": "2024-12-14T20:05:42.313115Z"
    },
    "trusted": true
   },
   "outputs": [
    {
     "data": {
      "text/html": [
       "<style>#sk-container-id-4 {color: black;background-color: white;}#sk-container-id-4 pre{padding: 0;}#sk-container-id-4 div.sk-toggleable {background-color: white;}#sk-container-id-4 label.sk-toggleable__label {cursor: pointer;display: block;width: 100%;margin-bottom: 0;padding: 0.3em;box-sizing: border-box;text-align: center;}#sk-container-id-4 label.sk-toggleable__label-arrow:before {content: \"▸\";float: left;margin-right: 0.25em;color: #696969;}#sk-container-id-4 label.sk-toggleable__label-arrow:hover:before {color: black;}#sk-container-id-4 div.sk-estimator:hover label.sk-toggleable__label-arrow:before {color: black;}#sk-container-id-4 div.sk-toggleable__content {max-height: 0;max-width: 0;overflow: hidden;text-align: left;background-color: #f0f8ff;}#sk-container-id-4 div.sk-toggleable__content pre {margin: 0.2em;color: black;border-radius: 0.25em;background-color: #f0f8ff;}#sk-container-id-4 input.sk-toggleable__control:checked~div.sk-toggleable__content {max-height: 200px;max-width: 100%;overflow: auto;}#sk-container-id-4 input.sk-toggleable__control:checked~label.sk-toggleable__label-arrow:before {content: \"▾\";}#sk-container-id-4 div.sk-estimator input.sk-toggleable__control:checked~label.sk-toggleable__label {background-color: #d4ebff;}#sk-container-id-4 div.sk-label input.sk-toggleable__control:checked~label.sk-toggleable__label {background-color: #d4ebff;}#sk-container-id-4 input.sk-hidden--visually {border: 0;clip: rect(1px 1px 1px 1px);clip: rect(1px, 1px, 1px, 1px);height: 1px;margin: -1px;overflow: hidden;padding: 0;position: absolute;width: 1px;}#sk-container-id-4 div.sk-estimator {font-family: monospace;background-color: #f0f8ff;border: 1px dotted black;border-radius: 0.25em;box-sizing: border-box;margin-bottom: 0.5em;}#sk-container-id-4 div.sk-estimator:hover {background-color: #d4ebff;}#sk-container-id-4 div.sk-parallel-item::after {content: \"\";width: 100%;border-bottom: 1px solid gray;flex-grow: 1;}#sk-container-id-4 div.sk-label:hover label.sk-toggleable__label {background-color: #d4ebff;}#sk-container-id-4 div.sk-serial::before {content: \"\";position: absolute;border-left: 1px solid gray;box-sizing: border-box;top: 0;bottom: 0;left: 50%;z-index: 0;}#sk-container-id-4 div.sk-serial {display: flex;flex-direction: column;align-items: center;background-color: white;padding-right: 0.2em;padding-left: 0.2em;position: relative;}#sk-container-id-4 div.sk-item {position: relative;z-index: 1;}#sk-container-id-4 div.sk-parallel {display: flex;align-items: stretch;justify-content: center;background-color: white;position: relative;}#sk-container-id-4 div.sk-item::before, #sk-container-id-4 div.sk-parallel-item::before {content: \"\";position: absolute;border-left: 1px solid gray;box-sizing: border-box;top: 0;bottom: 0;left: 50%;z-index: -1;}#sk-container-id-4 div.sk-parallel-item {display: flex;flex-direction: column;z-index: 1;position: relative;background-color: white;}#sk-container-id-4 div.sk-parallel-item:first-child::after {align-self: flex-end;width: 50%;}#sk-container-id-4 div.sk-parallel-item:last-child::after {align-self: flex-start;width: 50%;}#sk-container-id-4 div.sk-parallel-item:only-child::after {width: 0;}#sk-container-id-4 div.sk-dashed-wrapped {border: 1px dashed gray;margin: 0 0.4em 0.5em 0.4em;box-sizing: border-box;padding-bottom: 0.4em;background-color: white;}#sk-container-id-4 div.sk-label label {font-family: monospace;font-weight: bold;display: inline-block;line-height: 1.2em;}#sk-container-id-4 div.sk-label-container {text-align: center;}#sk-container-id-4 div.sk-container {/* jupyter's `normalize.less` sets `[hidden] { display: none; }` but bootstrap.min.css set `[hidden] { display: none !important; }` so we also need the `!important` here to be able to override the default hidden behavior on the sphinx rendered scikit-learn.org. See: https://github.com/scikit-learn/scikit-learn/issues/21755 */display: inline-block !important;position: relative;}#sk-container-id-4 div.sk-text-repr-fallback {display: none;}</style><div id=\"sk-container-id-4\" class=\"sk-top-container\"><div class=\"sk-text-repr-fallback\"><pre>RandomForestClassifier()</pre><b>In a Jupyter environment, please rerun this cell to show the HTML representation or trust the notebook. <br />On GitHub, the HTML representation is unable to render, please try loading this page with nbviewer.org.</b></div><div class=\"sk-container\" hidden><div class=\"sk-item\"><div class=\"sk-estimator sk-toggleable\"><input class=\"sk-toggleable__control sk-hidden--visually\" id=\"sk-estimator-id-4\" type=\"checkbox\" checked><label for=\"sk-estimator-id-4\" class=\"sk-toggleable__label sk-toggleable__label-arrow\">RandomForestClassifier</label><div class=\"sk-toggleable__content\"><pre>RandomForestClassifier()</pre></div></div></div></div></div>"
      ],
      "text/plain": [
       "RandomForestClassifier()"
      ]
     },
     "execution_count": 61,
     "metadata": {},
     "output_type": "execute_result"
    }
   ],
   "source": [
    "from sklearn.ensemble import RandomForestClassifier\n",
    "rf = RandomForestClassifier()\n",
    "rf.fit(xtrain,ytrain)"
   ]
  },
  {
   "cell_type": "code",
   "execution_count": 63,
   "metadata": {
    "execution": {
     "iopub.execute_input": "2024-12-14T20:06:17.637623Z",
     "iopub.status.busy": "2024-12-14T20:06:17.637203Z",
     "iopub.status.idle": "2024-12-14T20:06:17.793694Z",
     "shell.execute_reply": "2024-12-14T20:06:17.792752Z",
     "shell.execute_reply.started": "2024-12-14T20:06:17.637588Z"
    },
    "trusted": true
   },
   "outputs": [],
   "source": [
    "y_pred3=rf.predict(xtest)"
   ]
  },
  {
   "cell_type": "code",
   "execution_count": 64,
   "metadata": {
    "execution": {
     "iopub.execute_input": "2024-12-14T20:06:21.905391Z",
     "iopub.status.busy": "2024-12-14T20:06:21.905014Z",
     "iopub.status.idle": "2024-12-14T20:06:21.956177Z",
     "shell.execute_reply": "2024-12-14T20:06:21.954924Z",
     "shell.execute_reply.started": "2024-12-14T20:06:21.905358Z"
    },
    "trusted": true
   },
   "outputs": [
    {
     "data": {
      "text/plain": [
       "0.9992212975130189"
      ]
     },
     "execution_count": 64,
     "metadata": {},
     "output_type": "execute_result"
    }
   ],
   "source": [
    "accuracy_score(ytest,y_pred3)"
   ]
  },
  {
   "cell_type": "code",
   "execution_count": 65,
   "metadata": {
    "execution": {
     "iopub.execute_input": "2024-12-14T20:06:25.199544Z",
     "iopub.status.busy": "2024-12-14T20:06:25.199140Z",
     "iopub.status.idle": "2024-12-14T20:06:25.387456Z",
     "shell.execute_reply": "2024-12-14T20:06:25.386353Z",
     "shell.execute_reply.started": "2024-12-14T20:06:25.199508Z"
    },
    "trusted": true
   },
   "outputs": [
    {
     "data": {
      "text/plain": [
       "0.7777777777777778"
      ]
     },
     "execution_count": 65,
     "metadata": {},
     "output_type": "execute_result"
    }
   ],
   "source": [
    "precision_score(ytest,y_pred3,pos_label='fraud')"
   ]
  },
  {
   "cell_type": "code",
   "execution_count": 66,
   "metadata": {
    "execution": {
     "iopub.execute_input": "2024-12-14T20:06:28.762924Z",
     "iopub.status.busy": "2024-12-14T20:06:28.762511Z",
     "iopub.status.idle": "2024-12-14T20:06:28.954691Z",
     "shell.execute_reply": "2024-12-14T20:06:28.953612Z",
     "shell.execute_reply.started": "2024-12-14T20:06:28.762888Z"
    },
    "trusted": true
   },
   "outputs": [
    {
     "data": {
      "text/plain": [
       "0.3333333333333333"
      ]
     },
     "execution_count": 66,
     "metadata": {},
     "output_type": "execute_result"
    }
   ],
   "source": [
    "recall_score(ytest,y_pred3,pos_label='fraud')"
   ]
  },
  {
   "cell_type": "code",
   "execution_count": 67,
   "metadata": {
    "execution": {
     "iopub.execute_input": "2024-12-14T20:06:31.990746Z",
     "iopub.status.busy": "2024-12-14T20:06:31.990357Z",
     "iopub.status.idle": "2024-12-14T20:06:32.185148Z",
     "shell.execute_reply": "2024-12-14T20:06:32.183810Z",
     "shell.execute_reply.started": "2024-12-14T20:06:31.990710Z"
    },
    "trusted": true
   },
   "outputs": [
    {
     "data": {
      "text/plain": [
       "0.4666666666666666"
      ]
     },
     "execution_count": 67,
     "metadata": {},
     "output_type": "execute_result"
    }
   ],
   "source": [
    "f1_score(ytest,y_pred3,pos_label='fraud')"
   ]
  },
  {
   "cell_type": "code",
   "execution_count": 74,
   "metadata": {
    "execution": {
     "iopub.execute_input": "2024-12-14T20:08:57.532469Z",
     "iopub.status.busy": "2024-12-14T20:08:57.532013Z",
     "iopub.status.idle": "2024-12-14T20:08:57.941997Z",
     "shell.execute_reply": "2024-12-14T20:08:57.940718Z",
     "shell.execute_reply.started": "2024-12-14T20:08:57.532432Z"
    },
    "trusted": true
   },
   "outputs": [
    {
     "data": {
      "image/png": "[encoded data removed]",
      "text/plain": [
       "<Figure size 1200x1200 with 2 Axes>"
      ]
     },
     "metadata": {},
     "output_type": "display_data"
    }
   ],
   "source": [
    "# Printing the confusion matrix\n",
    "LABELS = ['Normal', 'Fraud']\n",
    "conf_matrix = confusion_matrix(ytest, y_pred1)\n",
    "plt.figure(figsize=(12, 12))\n",
    "sns.heatmap(conf_matrix, xticklabels=LABELS, yticklabels=LABELS, annot=True, fmt=\"d\")\n",
    "plt.title(\"Confusion matrix\")\n",
    "plt.ylabel('True class')\n",
    "plt.xlabel('Predicted class')\n",
    "plt.show()"
   ]
  },
  {
   "cell_type": "code",
   "execution_count": 75,
   "metadata": {
    "execution": {
     "iopub.execute_input": "2024-12-14T20:09:55.796616Z",
     "iopub.status.busy": "2024-12-14T20:09:55.796174Z",
     "iopub.status.idle": "2024-12-14T20:09:56.201789Z",
     "shell.execute_reply": "2024-12-14T20:09:56.200583Z",
     "shell.execute_reply.started": "2024-12-14T20:09:55.796578Z"
    },
    "trusted": true
   },
   "outputs": [
    {
     "data": {
      "image/png": "[encoded data removed]",
      "text/plain": [
       "<Figure size 1200x1200 with 2 Axes>"
      ]
     },
     "metadata": {},
     "output_type": "display_data"
    }
   ],
   "source": [
    "# Printing the confusion matrix\n",
    "LABELS = ['Normal', 'Fraud']\n",
    "conf_matrix = confusion_matrix(ytest, y_pred2)\n",
    "plt.figure(figsize=(12, 12))\n",
    "sns.heatmap(conf_matrix, xticklabels=LABELS, yticklabels=LABELS, annot=True, fmt=\"d\")\n",
    "plt.title(\"Confusion matrix\")\n",
    "plt.ylabel('True class')\n",
    "plt.xlabel('Predicted class')\n",
    "plt.show()"
   ]
  },
  {
   "cell_type": "code",
   "execution_count": 76,
   "metadata": {
    "execution": {
     "iopub.execute_input": "2024-12-14T20:10:18.643429Z",
     "iopub.status.busy": "2024-12-14T20:10:18.643034Z",
     "iopub.status.idle": "2024-12-14T20:10:19.055565Z",
     "shell.execute_reply": "2024-12-14T20:10:19.054455Z",
     "shell.execute_reply.started": "2024-12-14T20:10:18.643394Z"
    },
    "trusted": true
   },
   "outputs": [
    {
     "data": {
      "image/png": "[encoded data removed]",
      "text/plain": [
       "<Figure size 1200x1200 with 2 Axes>"
      ]
     },
     "metadata": {},
     "output_type": "display_data"
    }
   ],
   "source": [
    "# Printing the confusion matrix\n",
    "LABELS = ['Normal', 'Fraud']\n",
    "conf_matrix = confusion_matrix(ytest, y_pred3)\n",
    "plt.figure(figsize=(12, 12))\n",
    "sns.heatmap(conf_matrix, xticklabels=LABELS, yticklabels=LABELS, annot=True, fmt=\"d\")\n",
    "plt.title(\"Confusion matrix\")\n",
    "plt.ylabel('True class')\n",
    "plt.xlabel('Predicted class')\n",
    "plt.show()"
   ]
  },
  {
   "cell_type": "code",
   "execution_count": 77,
   "metadata": {
    "execution": {
     "iopub.execute_input": "2024-12-14T20:14:02.784534Z",
     "iopub.status.busy": "2024-12-14T20:14:02.784109Z",
     "iopub.status.idle": "2024-12-14T20:14:02.790379Z",
     "shell.execute_reply": "2024-12-14T20:14:02.789234Z",
     "shell.execute_reply.started": "2024-12-14T20:14:02.784497Z"
    },
    "trusted": true
   },
   "outputs": [],
   "source": [
    "models=[]\n",
    "results=[]\n",
    "names=[]"
   ]
  },
  {
   "cell_type": "code",
   "execution_count": 79,
   "metadata": {
    "execution": {
     "iopub.execute_input": "2024-12-14T20:14:08.760402Z",
     "iopub.status.busy": "2024-12-14T20:14:08.759995Z",
     "iopub.status.idle": "2024-12-14T20:14:08.768759Z",
     "shell.execute_reply": "2024-12-14T20:14:08.767650Z",
     "shell.execute_reply.started": "2024-12-14T20:14:08.760364Z"
    },
    "trusted": true
   },
   "outputs": [],
   "source": [
    "from sklearn.linear_model import LogisticRegression\n",
    "from sklearn.neighbors import KNeighborsClassifier\n",
    "from sklearn.naive_bayes import GaussianNB\n",
    "from sklearn.svm import SVC"
   ]
  },
  {
   "cell_type": "code",
   "execution_count": 80,
   "metadata": {
    "execution": {
     "iopub.execute_input": "2024-12-14T20:14:12.762423Z",
     "iopub.status.busy": "2024-12-14T20:14:12.762019Z",
     "iopub.status.idle": "2024-12-14T20:14:12.768868Z",
     "shell.execute_reply": "2024-12-14T20:14:12.767555Z",
     "shell.execute_reply.started": "2024-12-14T20:14:12.762387Z"
    },
    "trusted": true
   },
   "outputs": [],
   "source": [
    "models.append(('LR',LogisticRegression()))\n",
    "models.append(('KNN',KNeighborsClassifier()))\n",
    "models.append(('NB',GaussianNB()))\n",
    "models.append(('SVM',SVC()))\n",
    "models.append(('CART',DecisionTreeClassifier()))\n",
    "models.append(('RF',RandomForestClassifier()))"
   ]
  },
  {
   "cell_type": "code",
   "execution_count": 81,
   "metadata": {
    "execution": {
     "iopub.execute_input": "2024-12-14T20:14:22.895402Z",
     "iopub.status.busy": "2024-12-14T20:14:22.894671Z",
     "iopub.status.idle": "2024-12-14T20:14:22.903294Z",
     "shell.execute_reply": "2024-12-14T20:14:22.902121Z",
     "shell.execute_reply.started": "2024-12-14T20:14:22.895366Z"
    },
    "trusted": true
   },
   "outputs": [
    {
     "data": {
      "text/plain": [
       "[('LR', LogisticRegression()),\n",
       " ('KNN', KNeighborsClassifier()),\n",
       " ('NB', GaussianNB()),\n",
       " ('SVM', SVC()),\n",
       " ('CART', DecisionTreeClassifier()),\n",
       " ('RF', RandomForestClassifier())]"
      ]
     },
     "execution_count": 81,
     "metadata": {},
     "output_type": "execute_result"
    }
   ],
   "source": [
    "models"
   ]
  },
  {
   "cell_type": "code",
   "execution_count": 82,
   "metadata": {
    "execution": {
     "iopub.execute_input": "2024-12-14T20:14:27.389451Z",
     "iopub.status.busy": "2024-12-14T20:14:27.389047Z",
     "iopub.status.idle": "2024-12-14T20:17:21.050099Z",
     "shell.execute_reply": "2024-12-14T20:17:21.049051Z",
     "shell.execute_reply.started": "2024-12-14T20:14:27.389417Z"
    },
    "trusted": true
   },
   "outputs": [
    {
     "name": "stdout",
     "output_type": "stream",
     "text": [
      "LR: 0.999260\n",
      "KNN: 0.998929\n",
      "NB: 0.978050\n",
      "SVM: 0.998832\n",
      "CART: 0.998803\n",
      "RF: 0.999104\n"
     ]
    }
   ],
   "source": [
    "from sklearn import model_selection\n",
    "\n",
    "# Initialize lists to store results\n",
    "results = []\n",
    "names = []\n",
    "\n",
    "# Loop through the models\n",
    "for name, model in models:\n",
    "    # Indent the following lines to be part of the for loop\n",
    "    kfold = model_selection.KFold(n_splits=10, random_state=42, shuffle=True)\n",
    "    cv_result = model_selection.cross_val_score(model, x, y, cv=kfold, scoring='accuracy')\n",
    "    \n",
    "    # Append results and names\n",
    "    results.append(cv_result)  # Corrected from cv.result to cv_result\n",
    "    names.append(name)          # Corrected from names to name\n",
    "    \n",
    "    # Print the mean of cross-validation results\n",
    "    meg = '%s: %f' % (name, cv_result.mean())\n",
    "    print(meg)"
   ]
  },
  {
   "cell_type": "code",
   "execution_count": 83,
   "metadata": {
    "execution": {
     "iopub.execute_input": "2024-12-14T20:17:48.568111Z",
     "iopub.status.busy": "2024-12-14T20:17:48.567744Z",
     "iopub.status.idle": "2024-12-14T20:17:48.827801Z",
     "shell.execute_reply": "2024-12-14T20:17:48.826690Z",
     "shell.execute_reply.started": "2024-12-14T20:17:48.568078Z"
    },
    "trusted": true
   },
   "outputs": [
    {
     "data": {
      "image/png": "[encoded data removed]",
      "text/plain": [
       "<Figure size 1000x600 with 1 Axes>"
      ]
     },
     "metadata": {},
     "output_type": "display_data"
    }
   ],
   "source": [
    "# Convert results to a DataFrame for plotting\n",
    "results_df = pd.DataFrame({\n",
    "    'Model': names,\n",
    "    'Mean Accuracy': [result.mean() for result in results]\n",
    "})\n",
    "\n",
    "# Create a bar plot\n",
    "plt.figure(figsize=(10, 6))\n",
    "sns.barplot(x='Mean Accuracy', y='Model', data=results_df, palette='viridis')\n",
    "plt.title('Model Comparison')\n",
    "plt.xlabel('Mean Accuracy')\n",
    "plt.ylabel('Model')\n",
    "plt.show()"
   ]
  },
  {
   "cell_type": "code",
   "execution_count": 84,
   "metadata": {
    "execution": {
     "iopub.execute_input": "2024-12-14T20:17:56.164165Z",
     "iopub.status.busy": "2024-12-14T20:17:56.162919Z",
     "iopub.status.idle": "2024-12-14T20:17:56.170124Z",
     "shell.execute_reply": "2024-12-14T20:17:56.169072Z",
     "shell.execute_reply.started": "2024-12-14T20:17:56.164112Z"
    },
    "trusted": true
   },
   "outputs": [],
   "source": [
    "import pickle\n",
    "with open('fraud_detection_model.pkl','wb') as model_file:\n",
    "    pickle.dump(model,model_file,protocol=2)"
   ]
  }
 ],
 "metadata": {
  "kaggle": {
   "accelerator": "none",
   "dataSources": [
    {
     "datasetId": 6302469,
     "sourceId": 10199439,
     "sourceType": "datasetVersion"
    }
   ],
   "dockerImageVersionId": 30804,
   "isGpuEnabled": false,
   "isInternetEnabled": true,
   "language": "python",
   "sourceType": "notebook"
  },
  "kernelspec": {
   "display_name": "Python 3",
   "language": "python",
   "name": "python3"
  },
  "language_info": {
   "codemirror_mode": {
    "name": "ipython",
    "version": 3
   },
   "file_extension": ".py",
   "mimetype": "text/x-python",
   "name": "python",
   "nbconvert_exporter": "python",
   "pygments_lexer": "ipython3",
   "version": "3.10.14"
  }
 },
 "nbformat": 4,
 "nbformat_minor": 4
}
